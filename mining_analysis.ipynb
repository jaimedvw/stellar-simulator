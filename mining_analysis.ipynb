{
 "cells": [
  {
   "cell_type": "code",
   "outputs": [
    {
     "name": "stdout",
     "output_type": "stream",
     "text": [
      "Transactions per second: defaultdict(<class 'int'>, {0: 164, 1: 195, 2: 210, 3: 190, 4: 198, 5: 203, 6: 214, 7: 209, 8: 196, 9: 192, 10: 174, 11: 188, 12: 206, 13: 170, 14: 195, 15: 204, 16: 219, 17: 182, 18: 196, 19: 213, 20: 206, 21: 193, 22: 202, 23: 201, 24: 206, 25: 242, 26: 208, 27: 205, 28: 188, 29: 198, 30: 215, 31: 196, 32: 178, 33: 208, 34: 230, 35: 196, 36: 189, 37: 186, 38: 188, 39: 182, 40: 200, 41: 201, 42: 222, 43: 190, 44: 181, 45: 190, 46: 184, 47: 211, 48: 196, 49: 197, 50: 2})\n",
      "Average transactions per second: 194.2941176470588\n"
     ]
    }
   ],
   "source": [
    "import re\n",
    "from collections import defaultdict\n",
    "\n",
    "def count_transactions_per_second(file_path):\n",
    "    transactions_per_second = defaultdict(int)\n",
    "    \n",
    "    with open(file_path, 'r') as file:\n",
    "        lines = file.readlines()\n",
    "    \n",
    "    for line in lines:\n",
    "        match = re.match(r\"(\\d+\\.\\d+) - MEMPOOL - INFO - Transaction\", line)\n",
    "        if match:\n",
    "            timestamp = float(match.group(1))\n",
    "            second = int(timestamp)\n",
    "            transactions_per_second[second] += 1\n",
    "    \n",
    "    return transactions_per_second\n",
    "\n",
    "def calculate_average_transactions(transactions_per_second):\n",
    "    if not transactions_per_second:\n",
    "        return 0\n",
    "    total_transactions = sum(transactions_per_second.values())\n",
    "    total_seconds = len(transactions_per_second)\n",
    "    return total_transactions / total_seconds\n",
    "\n",
    "file_path = 'src/simulator_mine_events.txt'\n",
    "transactions_per_sec = count_transactions_per_second(file_path)\n",
    "average_tps = calculate_average_transactions(transactions_per_sec)\n",
    "\n",
    "print(\"Transactions per second:\", transactions_per_sec)\n",
    "print(\"Average transactions per second:\", average_tps)\n"
   ],
   "metadata": {
    "collapsed": false,
    "ExecuteTime": {
     "end_time": "2025-02-03T13:39:48.065783Z",
     "start_time": "2025-02-03T13:39:48.046939Z"
    }
   },
   "id": "b92d3cdc05eab53b",
   "execution_count": 37
  }
 ],
 "metadata": {
  "kernelspec": {
   "display_name": "Python 3",
   "language": "python",
   "name": "python3"
  },
  "language_info": {
   "codemirror_mode": {
    "name": "ipython",
    "version": 2
   },
   "file_extension": ".py",
   "mimetype": "text/x-python",
   "name": "python",
   "nbconvert_exporter": "python",
   "pygments_lexer": "ipython2",
   "version": "2.7.6"
  }
 },
 "nbformat": 4,
 "nbformat_minor": 5
}
