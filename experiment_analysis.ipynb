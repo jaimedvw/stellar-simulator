{
 "cells": [
  {
   "cell_type": "code",
   "outputs": [
    {
     "name": "stdout",
     "output_type": "stream",
     "text": [
      "\u001B[33mWARNING: Ignoring invalid distribution ~ransformers (/Library/Frameworks/Python.framework/Versions/3.11/lib/python3.11/site-packages)\u001B[0m\u001B[33m\r\n",
      "\u001B[0mRequirement already satisfied: pandas in /Library/Frameworks/Python.framework/Versions/3.11/lib/python3.11/site-packages (2.2.3)\r\n",
      "Requirement already satisfied: numpy>=1.23.2 in /Library/Frameworks/Python.framework/Versions/3.11/lib/python3.11/site-packages (from pandas) (1.26.4)\r\n",
      "Requirement already satisfied: python-dateutil>=2.8.2 in /Library/Frameworks/Python.framework/Versions/3.11/lib/python3.11/site-packages (from pandas) (2.9.0.post0)\r\n",
      "Requirement already satisfied: pytz>=2020.1 in /Library/Frameworks/Python.framework/Versions/3.11/lib/python3.11/site-packages (from pandas) (2024.2)\r\n",
      "Requirement already satisfied: tzdata>=2022.7 in /Library/Frameworks/Python.framework/Versions/3.11/lib/python3.11/site-packages (from pandas) (2024.2)\r\n",
      "Requirement already satisfied: six>=1.5 in /Library/Frameworks/Python.framework/Versions/3.11/lib/python3.11/site-packages (from python-dateutil>=2.8.2->pandas) (1.16.0)\r\n",
      "\u001B[33mWARNING: Ignoring invalid distribution ~ransformers (/Library/Frameworks/Python.framework/Versions/3.11/lib/python3.11/site-packages)\u001B[0m\u001B[33m\r\n",
      "\u001B[0m\u001B[33mWARNING: Ignoring invalid distribution ~ransformers (/Library/Frameworks/Python.framework/Versions/3.11/lib/python3.11/site-packages)\u001B[0m\u001B[33m\r\n",
      "\u001B[0m\r\n",
      "\u001B[1m[\u001B[0m\u001B[34;49mnotice\u001B[0m\u001B[1;39;49m]\u001B[0m\u001B[39;49m A new release of pip is available: \u001B[0m\u001B[31;49m24.3.1\u001B[0m\u001B[39;49m -> \u001B[0m\u001B[32;49m25.0\u001B[0m\r\n",
      "\u001B[1m[\u001B[0m\u001B[34;49mnotice\u001B[0m\u001B[1;39;49m]\u001B[0m\u001B[39;49m To update, run: \u001B[0m\u001B[32;49mpip install --upgrade pip\u001B[0m\r\n"
     ]
    }
   ],
   "source": [
    "!pip install pandas"
   ],
   "metadata": {
    "collapsed": false,
    "ExecuteTime": {
     "end_time": "2025-01-29T19:25:31.825363Z",
     "start_time": "2025-01-29T19:25:31.046155Z"
    }
   },
   "id": "69be3bd04b03062e",
   "execution_count": 139
  },
  {
   "cell_type": "code",
   "outputs": [
    {
     "name": "stdout",
     "output_type": "stream",
     "text": [
      "Number of transactions: 3\n"
     ]
    }
   ],
   "source": [
    "import re\n",
    "\n",
    "def get_transaction_count(line):\n",
    "    # Regular expression to match the transaction block\n",
    "    pattern = r\"transactions = \\{([^}]+)\\}\"\n",
    "    \n",
    "    # Search for transactions block in the line\n",
    "    match = re.search(pattern, line)\n",
    "    \n",
    "    if match:\n",
    "        # Extract transactions and find all unique transaction hashes\n",
    "        transaction_hashes = set(re.findall(r\"Transaction ([a-fA-F0-9]+)\", match.group(1)))\n",
    "        return len(transaction_hashes)  # Count unique transactions\n",
    "    \n",
    "    return 0\n",
    "\n",
    "# Test with a sample line\n",
    "line = \"2.78 - NODE - INFO - Node 39 appended SCPExternalize message to its storage and state, message = SCPExternalize(ballot=SCPBallot(counter=1, value=[Value, hash = 5071816607284402923, state = State.init, transactions = {[Transaction fb9069c time = 0.0000], [Transaction 77d28c42 time = 0.0000], [Transaction 5ddddb02 time = 0.0000]}]), hCounter=1)\"\n",
    "transaction_count = get_transaction_count(line)\n",
    "print(f\"Number of transactions: {transaction_count}\")"
   ],
   "metadata": {
    "collapsed": false,
    "ExecuteTime": {
     "end_time": "2025-01-29T19:25:31.830226Z",
     "start_time": "2025-01-29T19:25:31.827775Z"
    }
   },
   "id": "2de1fb815eb3522a",
   "execution_count": 140
  },
  {
   "cell_type": "code",
   "outputs": [
    {
     "name": "stdout",
     "output_type": "stream",
     "text": [
      "Timestamp: 2.78\n"
     ]
    }
   ],
   "source": [
    "# Get timestamp of ledger\n",
    "import re\n",
    "\n",
    "def get_timestamp(line):\n",
    "    pattern = r\"^\\d+\\.\\d+\" # Regular expression to match the first number (timestamp) in the line\n",
    "    \n",
    "    match = re.match(pattern, line) # Search for the timestamp at the beginning of the line\n",
    "    \n",
    "    if match:\n",
    "        return float(match.group(0))\n",
    "    \n",
    "    return None\n",
    "\n",
    "# Test with a sample line\n",
    "line = \"2.78 - NODE - INFO - Node 39 appended SCPExternalize message to its storage and state, message = SCPExternalize(ballot=SCPBallot(counter=1, value=[Value, hash = 5071816607284402923, state = State.init, transactions = {[Transaction fb9069c time = 0.0000], [Transaction 77d28c42 time = 0.0000], [Transaction 5ddddb02 time = 0.0000]}]), hCounter=1)\"\n",
    "timestamp = get_timestamp(line)\n",
    "print(f\"Timestamp: {timestamp}\")"
   ],
   "metadata": {
    "collapsed": false,
    "ExecuteTime": {
     "end_time": "2025-01-29T19:25:31.833609Z",
     "start_time": "2025-01-29T19:25:31.830771Z"
    }
   },
   "id": "11c6769b0e717212",
   "execution_count": 141
  },
  {
   "cell_type": "code",
   "outputs": [
    {
     "name": "stdout",
     "output_type": "stream",
     "text": [
      "Node name: GB4OX7UF6ZXUTINUH5CCRFTLJTEKPCCHIMCDEEPHZ7YMP2LXZBBJHQ3F\n"
     ]
    }
   ],
   "source": [
    "import re\n",
    "\n",
    "def get_node_name(line):\n",
    "    # Regular expression to match the node number after 'Node'\n",
    "    pattern = r\"Node ([A-Z0-9]+)\"\n",
    "    \n",
    "    # Search for the node name in the line\n",
    "    match = re.search(pattern, line)\n",
    "    \n",
    "    if match:\n",
    "        return match.group(1)  # Return the alphanumeric node name\n",
    "    \n",
    "    return None\n",
    "\n",
    "# Test with a sample line\n",
    "line = \"0.00 - NODE - INFO - Node GB4OX7UF6ZXUTINUH5CCRFTLJTEKPCCHIMCDEEPHZ7YMP2LXZBBJHQ3F retrieved [Transaction eacf177a time = 0.0000] from mempool.\"\n",
    "node_name = get_node_name(line)\n",
    "print(f\"Node name: {node_name}\")"
   ],
   "metadata": {
    "collapsed": false,
    "ExecuteTime": {
     "end_time": "2025-01-29T19:25:31.837845Z",
     "start_time": "2025-01-29T19:25:31.835346Z"
    }
   },
   "id": "99eefcdff02b2ee3",
   "execution_count": 142
  },
  {
   "cell_type": "code",
   "outputs": [
    {
     "name": "stdout",
     "output_type": "stream",
     "text": [
      "Unique transactions retrieved from mempool for Node 19: 0\n"
     ]
    }
   ],
   "source": [
    "import re\n",
    "\n",
    "def count_unique_mempool_transactions(file_path, node_number):\n",
    "    unique_transactions = set()\n",
    "\n",
    "    with open(file_path, 'r') as file:\n",
    "        lines = file.readlines()\n",
    "\n",
    "    for line in lines:\n",
    "        # Check if the line contains the specified node and 'from mempool'\n",
    "        if node_number in line and \"from mempool\" in line:\n",
    "            transaction_matches = re.findall(r\"Transaction ([a-fA-F0-9]+)\", line) # Extract transaction hashes\n",
    "            unique_transactions.update(transaction_matches)\n",
    "\n",
    "    return len(unique_transactions)\n",
    "\n",
    "file_path = 'src/simulator_events_log.txt'\n",
    "node = \"Node 19\"\n",
    "unique_tx_count = count_unique_mempool_transactions(file_path, node)\n",
    "\n",
    "print(f\"Unique transactions retrieved from mempool for {node}: {unique_tx_count}\")"
   ],
   "metadata": {
    "collapsed": false,
    "ExecuteTime": {
     "end_time": "2025-01-29T19:25:31.848484Z",
     "start_time": "2025-01-29T19:25:31.838918Z"
    }
   },
   "id": "a3d1f95286922663",
   "execution_count": 143
  },
  {
   "cell_type": "markdown",
   "source": [
    "FINAL PROCESS LOG LINES FUNCTION"
   ],
   "metadata": {
    "collapsed": false
   },
   "id": "df7254891dde92aa"
  },
  {
   "cell_type": "code",
   "outputs": [],
   "source": [
    "import pandas as pd\n",
    "\n",
    "def process_log_lines(file_path):\n",
    "    node_data = {}\n",
    "\n",
    "    with open(file_path, 'r') as file:\n",
    "        lines = file.readlines()\n",
    "\n",
    "    for line in lines:\n",
    "        node_name = get_node_name(line)\n",
    "        timestamp = get_timestamp(line)\n",
    "        \n",
    "        if node_name:\n",
    "            node_data[node_name] = {\n",
    "                \"sequence number\": node_name,\n",
    "                \"Timestamp of finalisation\": timestamp\n",
    "            }\n",
    "    \n",
    "    df = pd.DataFrame(node_data.values())\n",
    "    \n",
    "    return df"
   ],
   "metadata": {
    "collapsed": false,
    "ExecuteTime": {
     "end_time": "2025-01-29T19:25:31.872147Z",
     "start_time": "2025-01-29T19:25:31.848070Z"
    }
   },
   "id": "9cde4052346751de",
   "execution_count": 144
  },
  {
   "cell_type": "code",
   "outputs": [
    {
     "name": "stdout",
     "output_type": "stream",
     "text": [
      "88\n"
     ]
    }
   ],
   "source": [
    "df = process_log_lines('src/simulator_events_log.txt')\n",
    "print(len(df[\"sequence number\"].unique()))"
   ],
   "metadata": {
    "collapsed": false,
    "ExecuteTime": {
     "end_time": "2025-01-29T19:25:31.876114Z",
     "start_time": "2025-01-29T19:25:31.850515Z"
    }
   },
   "id": "5209d1d18756dfa",
   "execution_count": 145
  },
  {
   "cell_type": "code",
   "outputs": [],
   "source": [
    "import pandas as pd\n",
    "\n",
    "def process_log_lines(file_path):\n",
    "    node_data = {}\n",
    "\n",
    "    with open(file_path, 'r') as file:\n",
    "        lines = file.readlines()\n",
    "\n",
    "    for line in lines:\n",
    "        if 'appended SCPExternalize message to its storage and state' not in line:\n",
    "            continue\n",
    "\n",
    "        node_name = get_node_name(line)\n",
    "        timestamp = get_timestamp(line)\n",
    "        transaction_count = get_transaction_count(line)\n",
    "        externalize_message = line\n",
    "\n",
    "        if node_name:\n",
    "            node_data[node_name] = {\n",
    "                \"sequence number\": node_name,\n",
    "                \"Timestamp of finalisation\": timestamp,\n",
    "                \"No. of finalised transactions\": transaction_count,\n",
    "                \"Externalize message\": externalize_message,\n",
    "            }\n",
    "\n",
    "    df = pd.DataFrame(node_data.values())\n",
    "\n",
    "    df[\"total_transactions\"] = df[\"sequence number\"].apply(lambda node: count_unique_mempool_transactions(file_path, node))\n",
    "    \n",
    "    df[\"no. of transactions not finalised\"] = df[\"total_transactions\"] - df[\"No. of finalised transactions\"]\n",
    "\n",
    "    return df"
   ],
   "metadata": {
    "collapsed": false,
    "ExecuteTime": {
     "end_time": "2025-01-29T19:25:31.883454Z",
     "start_time": "2025-01-29T19:25:31.877973Z"
    }
   },
   "id": "5cb06702053bb065",
   "execution_count": 146
  },
  {
   "cell_type": "code",
   "outputs": [
    {
     "ename": "KeyError",
     "evalue": "'sequence number'",
     "output_type": "error",
     "traceback": [
      "\u001B[0;31m---------------------------------------------------------------------------\u001B[0m",
      "\u001B[0;31mKeyError\u001B[0m                                  Traceback (most recent call last)",
      "Cell \u001B[0;32mIn[147], line 3\u001B[0m\n\u001B[1;32m      1\u001B[0m file_path \u001B[38;5;241m=\u001B[39m \u001B[38;5;124m'\u001B[39m\u001B[38;5;124msrc/simulator_events_log.txt\u001B[39m\u001B[38;5;124m'\u001B[39m\n\u001B[0;32m----> 3\u001B[0m df \u001B[38;5;241m=\u001B[39m \u001B[43mprocess_log_lines\u001B[49m\u001B[43m(\u001B[49m\u001B[43mfile_path\u001B[49m\u001B[43m)\u001B[49m\n\u001B[1;32m      4\u001B[0m df_sorted \u001B[38;5;241m=\u001B[39m df\u001B[38;5;241m.\u001B[39msort_values(by\u001B[38;5;241m=\u001B[39m\u001B[38;5;124m'\u001B[39m\u001B[38;5;124mTimestamp of finalisation\u001B[39m\u001B[38;5;124m'\u001B[39m, ascending\u001B[38;5;241m=\u001B[39m\u001B[38;5;28;01mTrue\u001B[39;00m)\n\u001B[1;32m      6\u001B[0m display(df_sorted)\n",
      "Cell \u001B[0;32mIn[146], line 28\u001B[0m, in \u001B[0;36mprocess_log_lines\u001B[0;34m(file_path)\u001B[0m\n\u001B[1;32m     19\u001B[0m         node_data[node_name] \u001B[38;5;241m=\u001B[39m {\n\u001B[1;32m     20\u001B[0m             \u001B[38;5;124m\"\u001B[39m\u001B[38;5;124msequence number\u001B[39m\u001B[38;5;124m\"\u001B[39m: node_name,\n\u001B[1;32m     21\u001B[0m             \u001B[38;5;124m\"\u001B[39m\u001B[38;5;124mTimestamp of finalisation\u001B[39m\u001B[38;5;124m\"\u001B[39m: timestamp,\n\u001B[1;32m     22\u001B[0m             \u001B[38;5;124m\"\u001B[39m\u001B[38;5;124mNo. of finalised transactions\u001B[39m\u001B[38;5;124m\"\u001B[39m: transaction_count,\n\u001B[1;32m     23\u001B[0m             \u001B[38;5;124m\"\u001B[39m\u001B[38;5;124mExternalize message\u001B[39m\u001B[38;5;124m\"\u001B[39m: externalize_message,\n\u001B[1;32m     24\u001B[0m         }\n\u001B[1;32m     26\u001B[0m df \u001B[38;5;241m=\u001B[39m pd\u001B[38;5;241m.\u001B[39mDataFrame(node_data\u001B[38;5;241m.\u001B[39mvalues())\n\u001B[0;32m---> 28\u001B[0m df[\u001B[38;5;124m\"\u001B[39m\u001B[38;5;124mtotal_transactions\u001B[39m\u001B[38;5;124m\"\u001B[39m] \u001B[38;5;241m=\u001B[39m \u001B[43mdf\u001B[49m\u001B[43m[\u001B[49m\u001B[38;5;124;43m\"\u001B[39;49m\u001B[38;5;124;43msequence number\u001B[39;49m\u001B[38;5;124;43m\"\u001B[39;49m\u001B[43m]\u001B[49m\u001B[38;5;241m.\u001B[39mapply(\u001B[38;5;28;01mlambda\u001B[39;00m node: count_unique_mempool_transactions(file_path, node))\n\u001B[1;32m     30\u001B[0m df[\u001B[38;5;124m\"\u001B[39m\u001B[38;5;124mno. of transactions not finalised\u001B[39m\u001B[38;5;124m\"\u001B[39m] \u001B[38;5;241m=\u001B[39m df[\u001B[38;5;124m\"\u001B[39m\u001B[38;5;124mtotal_transactions\u001B[39m\u001B[38;5;124m\"\u001B[39m] \u001B[38;5;241m-\u001B[39m df[\u001B[38;5;124m\"\u001B[39m\u001B[38;5;124mNo. of finalised transactions\u001B[39m\u001B[38;5;124m\"\u001B[39m]\n\u001B[1;32m     32\u001B[0m \u001B[38;5;28;01mreturn\u001B[39;00m df\n",
      "File \u001B[0;32m/Library/Frameworks/Python.framework/Versions/3.11/lib/python3.11/site-packages/pandas/core/frame.py:4102\u001B[0m, in \u001B[0;36mDataFrame.__getitem__\u001B[0;34m(self, key)\u001B[0m\n\u001B[1;32m   4100\u001B[0m \u001B[38;5;28;01mif\u001B[39;00m \u001B[38;5;28mself\u001B[39m\u001B[38;5;241m.\u001B[39mcolumns\u001B[38;5;241m.\u001B[39mnlevels \u001B[38;5;241m>\u001B[39m \u001B[38;5;241m1\u001B[39m:\n\u001B[1;32m   4101\u001B[0m     \u001B[38;5;28;01mreturn\u001B[39;00m \u001B[38;5;28mself\u001B[39m\u001B[38;5;241m.\u001B[39m_getitem_multilevel(key)\n\u001B[0;32m-> 4102\u001B[0m indexer \u001B[38;5;241m=\u001B[39m \u001B[38;5;28;43mself\u001B[39;49m\u001B[38;5;241;43m.\u001B[39;49m\u001B[43mcolumns\u001B[49m\u001B[38;5;241;43m.\u001B[39;49m\u001B[43mget_loc\u001B[49m\u001B[43m(\u001B[49m\u001B[43mkey\u001B[49m\u001B[43m)\u001B[49m\n\u001B[1;32m   4103\u001B[0m \u001B[38;5;28;01mif\u001B[39;00m is_integer(indexer):\n\u001B[1;32m   4104\u001B[0m     indexer \u001B[38;5;241m=\u001B[39m [indexer]\n",
      "File \u001B[0;32m/Library/Frameworks/Python.framework/Versions/3.11/lib/python3.11/site-packages/pandas/core/indexes/range.py:417\u001B[0m, in \u001B[0;36mRangeIndex.get_loc\u001B[0;34m(self, key)\u001B[0m\n\u001B[1;32m    415\u001B[0m         \u001B[38;5;28;01mraise\u001B[39;00m \u001B[38;5;167;01mKeyError\u001B[39;00m(key) \u001B[38;5;28;01mfrom\u001B[39;00m \u001B[38;5;21;01merr\u001B[39;00m\n\u001B[1;32m    416\u001B[0m \u001B[38;5;28;01mif\u001B[39;00m \u001B[38;5;28misinstance\u001B[39m(key, Hashable):\n\u001B[0;32m--> 417\u001B[0m     \u001B[38;5;28;01mraise\u001B[39;00m \u001B[38;5;167;01mKeyError\u001B[39;00m(key)\n\u001B[1;32m    418\u001B[0m \u001B[38;5;28mself\u001B[39m\u001B[38;5;241m.\u001B[39m_check_indexing_error(key)\n\u001B[1;32m    419\u001B[0m \u001B[38;5;28;01mraise\u001B[39;00m \u001B[38;5;167;01mKeyError\u001B[39;00m(key)\n",
      "\u001B[0;31mKeyError\u001B[0m: 'sequence number'"
     ]
    }
   ],
   "source": [
    "file_path = 'src/simulator_events_log.txt'\n",
    "\n",
    "df = process_log_lines(file_path)\n",
    "df_sorted = df.sort_values(by='Timestamp of finalisation', ascending=True)\n",
    "\n",
    "display(df_sorted)"
   ],
   "metadata": {
    "collapsed": false,
    "ExecuteTime": {
     "end_time": "2025-01-29T19:25:31.909140Z",
     "start_time": "2025-01-29T19:25:31.880751Z"
    }
   },
   "id": "241e6b522d963ec3",
   "execution_count": 147
  },
  {
   "cell_type": "markdown",
   "source": [
    "ADD INTERLEDGER CHECKS"
   ],
   "metadata": {
    "collapsed": false
   },
   "id": "a8c23cf3429014b5"
  },
  {
   "cell_type": "code",
   "outputs": [],
   "source": [
    "def calculate_inter_ledger_agreement_time(df):\n",
    "    df = df.sort_values(by='Timestamp of finalisation')\n",
    "    time_diffs = df['Timestamp of finalisation'].diff().dropna()\n",
    "    \n",
    "    return time_diffs.mean()\n",
    "\n",
    "avg_time = calculate_inter_ledger_agreement_time(df_sorted)\n",
    "print(f\"Average Inter-Ledger Agreement Time: {avg_time}\")"
   ],
   "metadata": {
    "collapsed": false,
    "ExecuteTime": {
     "end_time": "2025-01-29T19:25:31.914502Z",
     "start_time": "2025-01-29T19:25:31.910649Z"
    }
   },
   "id": "4f6a1ea63b72affc",
   "execution_count": null
  },
  {
   "cell_type": "code",
   "outputs": [],
   "source": [
    "final_experiment_df = df_sorted[[\n",
    "    \"sequence number\",\n",
    "    \"Timestamp of finalisation\",\n",
    "    \"No. of finalised transactions\",\n",
    "    \"no. of transactions not finalised\"\n",
    "]]\n",
    "\n",
    "display(final_experiment_df)"
   ],
   "metadata": {
    "collapsed": false,
    "ExecuteTime": {
     "start_time": "2025-01-29T19:25:31.911646Z"
    }
   },
   "id": "18a0b7d813327d2f",
   "execution_count": null
  },
  {
   "cell_type": "code",
   "outputs": [],
   "source": [
    "avg_difference = (final_experiment_df[\"no. of transactions not finalised\"] - final_experiment_df[\"No. of finalised transactions\"]).mean()\n",
    "\n",
    "print(f\"Average difference: {avg_difference}\")"
   ],
   "metadata": {
    "collapsed": false,
    "ExecuteTime": {
     "start_time": "2025-01-29T19:25:31.912554Z"
    }
   },
   "id": "a183fd7400e7d199",
   "execution_count": null
  },
  {
   "cell_type": "code",
   "outputs": [],
   "source": [
    "avg_finalised = final_experiment_df[\"No. of finalised transactions\"].mean()\n",
    "avg_total = (final_experiment_df[\"No. of finalised transactions\"] + \n",
    "             final_experiment_df[\"no. of transactions not finalised\"]).mean()\n",
    "\n",
    "finalised_percentage = (avg_finalised / avg_total) * 100 if avg_total != 0 else 0\n",
    "\n",
    "print(f\"Percentage of finalised transactions vs total: {finalised_percentage:.2f}%\")"
   ],
   "metadata": {
    "collapsed": false,
    "ExecuteTime": {
     "start_time": "2025-01-29T19:25:31.914011Z"
    }
   },
   "id": "4632d0b4bbcc90a4",
   "execution_count": null
  }
 ],
 "metadata": {
  "kernelspec": {
   "display_name": "Python 3",
   "language": "python",
   "name": "python3"
  },
  "language_info": {
   "codemirror_mode": {
    "name": "ipython",
    "version": 2
   },
   "file_extension": ".py",
   "mimetype": "text/x-python",
   "name": "python",
   "nbconvert_exporter": "python",
   "pygments_lexer": "ipython2",
   "version": "2.7.6"
  }
 },
 "nbformat": 4,
 "nbformat_minor": 5
}
