{
 "cells": [
  {
   "cell_type": "code",
   "outputs": [
    {
     "name": "stdout",
     "output_type": "stream",
     "text": [
      "\u001B[33mWARNING: Ignoring invalid distribution ~ransformers (/Library/Frameworks/Python.framework/Versions/3.11/lib/python3.11/site-packages)\u001B[0m\u001B[33m\r\n",
      "\u001B[0mRequirement already satisfied: pandas in /Library/Frameworks/Python.framework/Versions/3.11/lib/python3.11/site-packages (2.2.3)\r\n",
      "Requirement already satisfied: numpy>=1.23.2 in /Library/Frameworks/Python.framework/Versions/3.11/lib/python3.11/site-packages (from pandas) (1.26.4)\r\n",
      "Requirement already satisfied: python-dateutil>=2.8.2 in /Library/Frameworks/Python.framework/Versions/3.11/lib/python3.11/site-packages (from pandas) (2.9.0.post0)\r\n",
      "Requirement already satisfied: pytz>=2020.1 in /Library/Frameworks/Python.framework/Versions/3.11/lib/python3.11/site-packages (from pandas) (2024.2)\r\n",
      "Requirement already satisfied: tzdata>=2022.7 in /Library/Frameworks/Python.framework/Versions/3.11/lib/python3.11/site-packages (from pandas) (2024.2)\r\n",
      "Requirement already satisfied: six>=1.5 in /Library/Frameworks/Python.framework/Versions/3.11/lib/python3.11/site-packages (from python-dateutil>=2.8.2->pandas) (1.16.0)\r\n",
      "\u001B[33mWARNING: Ignoring invalid distribution ~ransformers (/Library/Frameworks/Python.framework/Versions/3.11/lib/python3.11/site-packages)\u001B[0m\u001B[33m\r\n",
      "\u001B[0m\u001B[33mWARNING: Ignoring invalid distribution ~ransformers (/Library/Frameworks/Python.framework/Versions/3.11/lib/python3.11/site-packages)\u001B[0m\u001B[33m\r\n",
      "\u001B[0m\r\n",
      "\u001B[1m[\u001B[0m\u001B[34;49mnotice\u001B[0m\u001B[1;39;49m]\u001B[0m\u001B[39;49m A new release of pip is available: \u001B[0m\u001B[31;49m24.3.1\u001B[0m\u001B[39;49m -> \u001B[0m\u001B[32;49m25.0\u001B[0m\r\n",
      "\u001B[1m[\u001B[0m\u001B[34;49mnotice\u001B[0m\u001B[1;39;49m]\u001B[0m\u001B[39;49m To update, run: \u001B[0m\u001B[32;49mpip install --upgrade pip\u001B[0m\r\n"
     ]
    }
   ],
   "source": [
    "!pip install pandas"
   ],
   "metadata": {
    "collapsed": false,
    "ExecuteTime": {
     "end_time": "2025-02-03T13:36:47.454271Z",
     "start_time": "2025-02-03T13:36:46.748085Z"
    }
   },
   "id": "69be3bd04b03062e",
   "execution_count": 684
  },
  {
   "cell_type": "code",
   "outputs": [],
   "source": [
    "import re\n",
    "import pandas as pd\n",
    "from collections import defaultdict\n",
    "\n",
    "def get_transaction_count(line):\n",
    "    pattern = r\"transactions = \\{([^}]+)\\}\"\n",
    "    match = re.search(pattern, line)\n",
    "    if match:\n",
    "        return set(re.findall(r\"Transaction ([a-fA-F0-9]+)\", match.group(1)))\n",
    "    return set()\n",
    "\n",
    "def get_timestamp(line):\n",
    "    pattern = r\"^\\d+\\.\\d+\"\n",
    "    match = re.match(pattern, line)\n",
    "    return float(match.group(0)) if match else None\n",
    "\n",
    "def get_node_name(line):\n",
    "    pattern = r\"Node ([A-Z0-9]+)\"\n",
    "    match = re.search(pattern, line)\n",
    "    return match.group(1) if match else None\n",
    "\n",
    "def count_unique_mempool_transactions(file_path, node_number):\n",
    "    unique_transactions = set()\n",
    "    with open(file_path, 'r') as file:\n",
    "        for line in file:\n",
    "            if f\"Node {node_number}\" in line and \"from mempool\" in line:\n",
    "                unique_transactions.update(re.findall(r\"Transaction ([a-fA-F0-9]+)\", line))\n",
    "    return len(unique_transactions)\n",
    "\n",
    "\n",
    "def process_log_lines(file_path):\n",
    "    node_data = defaultdict(lambda: {\n",
    "        \"Timestamp of finalisation\": None, \n",
    "        \"Finalised transactions\": set(),  \n",
    "        \"Externalize messages\": []\n",
    "    })\n",
    "    \n",
    "    with open(file_path, 'r') as file:\n",
    "        lines = file.readlines()\n",
    "    \n",
    "    for line in lines:\n",
    "        if 'appended SCPExternalize message to its storage and state' not in line:\n",
    "            continue\n",
    "        \n",
    "        node_name = get_node_name(line)\n",
    "        timestamp = get_timestamp(line)\n",
    "        transactions = get_transaction_count(line)\n",
    "        \n",
    "        if node_name:\n",
    "            if node_data[node_name][\"Timestamp of finalisation\"] is None:\n",
    "                node_data[node_name][\"Timestamp of finalisation\"] = timestamp\n",
    "            node_data[node_name][\"Finalised transactions\"].update(transactions)\n",
    "            node_data[node_name][\"Externalize messages\"].append(line.strip())\n",
    "    \n",
    "    df = pd.DataFrame.from_dict(node_data, orient='index')\n",
    "    df.index.name = \"sequence number\"\n",
    "    df = df.reset_index()\n",
    "    \n",
    "    df[\"No. of finalised transactions\"] = df[\"Finalised transactions\"].apply(len)\n",
    "    \n",
    "    df[\"total_transactions\"] = df[\"sequence number\"].apply(lambda node: count_unique_mempool_transactions(file_path, node))\n",
    "    \n",
    "    df[\"no. of transactions not finalised\"] = df[\"total_transactions\"] - df[\"No. of finalised transactions\"]\n",
    "    \n",
    "    return df\n"
   ],
   "metadata": {
    "collapsed": false,
    "ExecuteTime": {
     "end_time": "2025-02-03T13:36:47.466093Z",
     "start_time": "2025-02-03T13:36:47.462263Z"
    }
   },
   "id": "e5426146017cc83d",
   "execution_count": 685
  },
  {
   "cell_type": "code",
   "outputs": [],
   "source": [
    "file_path = 'src/simulator_events_log.txt'\n",
    "\n",
    "df = process_log_lines(file_path)\n",
    "df_sorted = df.sort_values(by='Timestamp of finalisation', ascending=True)"
   ],
   "metadata": {
    "collapsed": false,
    "ExecuteTime": {
     "end_time": "2025-02-03T13:36:47.667002Z",
     "start_time": "2025-02-03T13:36:47.464687Z"
    }
   },
   "id": "241e6b522d963ec3",
   "execution_count": 686
  },
  {
   "cell_type": "markdown",
   "source": [
    "ADD INTERLEDGER CHECKS"
   ],
   "metadata": {
    "collapsed": false
   },
   "id": "a8c23cf3429014b5"
  },
  {
   "cell_type": "code",
   "outputs": [
    {
     "name": "stdout",
     "output_type": "stream",
     "text": [
      "Average Inter-Ledger Agreement Time: 6.043714285714286\n"
     ]
    }
   ],
   "source": [
    "def calculate_inter_ledger_agreement_time(df):\n",
    "    df = df.sort_values(by='Timestamp of finalisation')\n",
    "    time_diffs = df['Timestamp of finalisation'].diff().dropna()\n",
    "    \n",
    "    return time_diffs.mean()\n",
    "\n",
    "avg_time = calculate_inter_ledger_agreement_time(df_sorted)\n",
    "print(f\"Average Inter-Ledger Agreement Time: {avg_time}\")"
   ],
   "metadata": {
    "collapsed": false,
    "ExecuteTime": {
     "end_time": "2025-02-03T13:36:47.671133Z",
     "start_time": "2025-02-03T13:36:47.668397Z"
    }
   },
   "id": "4f6a1ea63b72affc",
   "execution_count": 687
  },
  {
   "cell_type": "code",
   "outputs": [
    {
     "data": {
      "text/plain": "   sequence number  Timestamp of finalisation  No. of finalised transactions  \\\n0               13                      55.41                             24   \n1               79                      57.42                             30   \n2               87                      61.68                             26   \n3               24                      62.28                             20   \n4               80                      66.68                              9   \n5               85                      74.46                             41   \n6               70                      80.97                             65   \n7               28                      85.06                             50   \n8               44                      88.22                             68   \n9               56                      90.76                             97   \n10              63                      94.44                              2   \n11              22                     101.92                             83   \n12              25                     101.98                              1   \n13              78                     103.74                             66   \n14              48                     104.91                             62   \n15              86                     106.52                             43   \n16              68                     114.08                             59   \n17              55                     117.63                             18   \n18              19                     117.75                             50   \n19               2                     121.34                             44   \n20              46                     127.81                            194   \n21              69                     132.60                             53   \n22              81                     138.72                             17   \n23              58                     142.37                             69   \n24              60                     144.78                              3   \n25              18                     146.28                             51   \n26               7                     150.47                             98   \n27              64                     163.31                             29   \n28              59                     172.03                            146   \n29              50                     179.09                             43   \n30              53                     189.68                             59   \n31              54                     193.81                             39   \n32              38                     213.19                             21   \n33              29                     216.42                             99   \n34              34                     240.53                             76   \n35              20                     266.94                            105   \n\n    no. of transactions not finalised  \n0                                 294  \n1                                 291  \n2                                 290  \n3                                 288  \n4                                 301  \n5                                 325  \n6                                 250  \n7                                 275  \n8                                 242  \n9                                 194  \n10                                322  \n11                                207  \n12                                303  \n13                                257  \n14                                249  \n15                                309  \n16                                255  \n17                                294  \n18                                284  \n19                               3060  \n20                                146  \n21                                249  \n22                                300  \n23                                251  \n24                                302  \n25                                271  \n26                               3075  \n27                                291  \n28                                157  \n29                                300  \n30                                267  \n31                                285  \n32                                299  \n33                                201  \n34                                211  \n35                                205  ",
      "text/html": "<div>\n<style scoped>\n    .dataframe tbody tr th:only-of-type {\n        vertical-align: middle;\n    }\n\n    .dataframe tbody tr th {\n        vertical-align: top;\n    }\n\n    .dataframe thead th {\n        text-align: right;\n    }\n</style>\n<table border=\"1\" class=\"dataframe\">\n  <thead>\n    <tr style=\"text-align: right;\">\n      <th></th>\n      <th>sequence number</th>\n      <th>Timestamp of finalisation</th>\n      <th>No. of finalised transactions</th>\n      <th>no. of transactions not finalised</th>\n    </tr>\n  </thead>\n  <tbody>\n    <tr>\n      <th>0</th>\n      <td>13</td>\n      <td>55.41</td>\n      <td>24</td>\n      <td>294</td>\n    </tr>\n    <tr>\n      <th>1</th>\n      <td>79</td>\n      <td>57.42</td>\n      <td>30</td>\n      <td>291</td>\n    </tr>\n    <tr>\n      <th>2</th>\n      <td>87</td>\n      <td>61.68</td>\n      <td>26</td>\n      <td>290</td>\n    </tr>\n    <tr>\n      <th>3</th>\n      <td>24</td>\n      <td>62.28</td>\n      <td>20</td>\n      <td>288</td>\n    </tr>\n    <tr>\n      <th>4</th>\n      <td>80</td>\n      <td>66.68</td>\n      <td>9</td>\n      <td>301</td>\n    </tr>\n    <tr>\n      <th>5</th>\n      <td>85</td>\n      <td>74.46</td>\n      <td>41</td>\n      <td>325</td>\n    </tr>\n    <tr>\n      <th>6</th>\n      <td>70</td>\n      <td>80.97</td>\n      <td>65</td>\n      <td>250</td>\n    </tr>\n    <tr>\n      <th>7</th>\n      <td>28</td>\n      <td>85.06</td>\n      <td>50</td>\n      <td>275</td>\n    </tr>\n    <tr>\n      <th>8</th>\n      <td>44</td>\n      <td>88.22</td>\n      <td>68</td>\n      <td>242</td>\n    </tr>\n    <tr>\n      <th>9</th>\n      <td>56</td>\n      <td>90.76</td>\n      <td>97</td>\n      <td>194</td>\n    </tr>\n    <tr>\n      <th>10</th>\n      <td>63</td>\n      <td>94.44</td>\n      <td>2</td>\n      <td>322</td>\n    </tr>\n    <tr>\n      <th>11</th>\n      <td>22</td>\n      <td>101.92</td>\n      <td>83</td>\n      <td>207</td>\n    </tr>\n    <tr>\n      <th>12</th>\n      <td>25</td>\n      <td>101.98</td>\n      <td>1</td>\n      <td>303</td>\n    </tr>\n    <tr>\n      <th>13</th>\n      <td>78</td>\n      <td>103.74</td>\n      <td>66</td>\n      <td>257</td>\n    </tr>\n    <tr>\n      <th>14</th>\n      <td>48</td>\n      <td>104.91</td>\n      <td>62</td>\n      <td>249</td>\n    </tr>\n    <tr>\n      <th>15</th>\n      <td>86</td>\n      <td>106.52</td>\n      <td>43</td>\n      <td>309</td>\n    </tr>\n    <tr>\n      <th>16</th>\n      <td>68</td>\n      <td>114.08</td>\n      <td>59</td>\n      <td>255</td>\n    </tr>\n    <tr>\n      <th>17</th>\n      <td>55</td>\n      <td>117.63</td>\n      <td>18</td>\n      <td>294</td>\n    </tr>\n    <tr>\n      <th>18</th>\n      <td>19</td>\n      <td>117.75</td>\n      <td>50</td>\n      <td>284</td>\n    </tr>\n    <tr>\n      <th>19</th>\n      <td>2</td>\n      <td>121.34</td>\n      <td>44</td>\n      <td>3060</td>\n    </tr>\n    <tr>\n      <th>20</th>\n      <td>46</td>\n      <td>127.81</td>\n      <td>194</td>\n      <td>146</td>\n    </tr>\n    <tr>\n      <th>21</th>\n      <td>69</td>\n      <td>132.60</td>\n      <td>53</td>\n      <td>249</td>\n    </tr>\n    <tr>\n      <th>22</th>\n      <td>81</td>\n      <td>138.72</td>\n      <td>17</td>\n      <td>300</td>\n    </tr>\n    <tr>\n      <th>23</th>\n      <td>58</td>\n      <td>142.37</td>\n      <td>69</td>\n      <td>251</td>\n    </tr>\n    <tr>\n      <th>24</th>\n      <td>60</td>\n      <td>144.78</td>\n      <td>3</td>\n      <td>302</td>\n    </tr>\n    <tr>\n      <th>25</th>\n      <td>18</td>\n      <td>146.28</td>\n      <td>51</td>\n      <td>271</td>\n    </tr>\n    <tr>\n      <th>26</th>\n      <td>7</td>\n      <td>150.47</td>\n      <td>98</td>\n      <td>3075</td>\n    </tr>\n    <tr>\n      <th>27</th>\n      <td>64</td>\n      <td>163.31</td>\n      <td>29</td>\n      <td>291</td>\n    </tr>\n    <tr>\n      <th>28</th>\n      <td>59</td>\n      <td>172.03</td>\n      <td>146</td>\n      <td>157</td>\n    </tr>\n    <tr>\n      <th>29</th>\n      <td>50</td>\n      <td>179.09</td>\n      <td>43</td>\n      <td>300</td>\n    </tr>\n    <tr>\n      <th>30</th>\n      <td>53</td>\n      <td>189.68</td>\n      <td>59</td>\n      <td>267</td>\n    </tr>\n    <tr>\n      <th>31</th>\n      <td>54</td>\n      <td>193.81</td>\n      <td>39</td>\n      <td>285</td>\n    </tr>\n    <tr>\n      <th>32</th>\n      <td>38</td>\n      <td>213.19</td>\n      <td>21</td>\n      <td>299</td>\n    </tr>\n    <tr>\n      <th>33</th>\n      <td>29</td>\n      <td>216.42</td>\n      <td>99</td>\n      <td>201</td>\n    </tr>\n    <tr>\n      <th>34</th>\n      <td>34</td>\n      <td>240.53</td>\n      <td>76</td>\n      <td>211</td>\n    </tr>\n    <tr>\n      <th>35</th>\n      <td>20</td>\n      <td>266.94</td>\n      <td>105</td>\n      <td>205</td>\n    </tr>\n  </tbody>\n</table>\n</div>"
     },
     "metadata": {},
     "output_type": "display_data"
    }
   ],
   "source": [
    "final_experiment_df = df_sorted[[\n",
    "    \"sequence number\",\n",
    "    \"Timestamp of finalisation\",\n",
    "    \"No. of finalised transactions\",\n",
    "    \"no. of transactions not finalised\"\n",
    "]]\n",
    "\n",
    "display(final_experiment_df)"
   ],
   "metadata": {
    "collapsed": false,
    "ExecuteTime": {
     "end_time": "2025-02-03T13:36:47.680013Z",
     "start_time": "2025-02-03T13:36:47.675876Z"
    }
   },
   "id": "18a0b7d813327d2f",
   "execution_count": 688
  },
  {
   "cell_type": "code",
   "outputs": [
    {
     "name": "stdout",
     "output_type": "stream",
     "text": [
      "Average difference: 365.0\n"
     ]
    }
   ],
   "source": [
    "avg_difference = (final_experiment_df[\"no. of transactions not finalised\"] - final_experiment_df[\"No. of finalised transactions\"]).mean()\n",
    "\n",
    "print(f\"Average difference: {avg_difference}\")"
   ],
   "metadata": {
    "collapsed": false,
    "ExecuteTime": {
     "end_time": "2025-02-03T13:36:47.680662Z",
     "start_time": "2025-02-03T13:36:47.678914Z"
    }
   },
   "id": "a183fd7400e7d199",
   "execution_count": 689
  },
  {
   "cell_type": "code",
   "outputs": [
    {
     "name": "stdout",
     "output_type": "stream",
     "text": [
      "Percentage of finalised transactions vs total: 11.49%\n"
     ]
    }
   ],
   "source": [
    "avg_finalised = final_experiment_df[\"No. of finalised transactions\"].mean()\n",
    "avg_total = (final_experiment_df[\"No. of finalised transactions\"] + \n",
    "             final_experiment_df[\"no. of transactions not finalised\"]).mean()\n",
    "\n",
    "finalised_percentage = (avg_finalised / avg_total) * 100 if avg_total != 0 else 0\n",
    "\n",
    "print(f\"Percentage of finalised transactions vs total: {finalised_percentage:.2f}%\")"
   ],
   "metadata": {
    "collapsed": false,
    "ExecuteTime": {
     "end_time": "2025-02-03T13:36:47.683687Z",
     "start_time": "2025-02-03T13:36:47.681768Z"
    }
   },
   "id": "4632d0b4bbcc90a4",
   "execution_count": 690
  }
 ],
 "metadata": {
  "kernelspec": {
   "display_name": "Python 3",
   "language": "python",
   "name": "python3"
  },
  "language_info": {
   "codemirror_mode": {
    "name": "ipython",
    "version": 2
   },
   "file_extension": ".py",
   "mimetype": "text/x-python",
   "name": "python",
   "nbconvert_exporter": "python",
   "pygments_lexer": "ipython2",
   "version": "2.7.6"
  }
 },
 "nbformat": 4,
 "nbformat_minor": 5
}
