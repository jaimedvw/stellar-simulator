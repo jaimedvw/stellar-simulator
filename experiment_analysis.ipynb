{
 "cells": [
  {
   "cell_type": "code",
   "outputs": [
    {
     "name": "stdout",
     "output_type": "stream",
     "text": [
      "\u001B[33mWARNING: Ignoring invalid distribution ~ransformers (/Library/Frameworks/Python.framework/Versions/3.11/lib/python3.11/site-packages)\u001B[0m\u001B[33m\r\n",
      "\u001B[0mRequirement already satisfied: pandas in /Library/Frameworks/Python.framework/Versions/3.11/lib/python3.11/site-packages (2.2.3)\r\n",
      "Requirement already satisfied: numpy>=1.23.2 in /Library/Frameworks/Python.framework/Versions/3.11/lib/python3.11/site-packages (from pandas) (1.26.4)\r\n",
      "Requirement already satisfied: python-dateutil>=2.8.2 in /Library/Frameworks/Python.framework/Versions/3.11/lib/python3.11/site-packages (from pandas) (2.9.0.post0)\r\n",
      "Requirement already satisfied: pytz>=2020.1 in /Library/Frameworks/Python.framework/Versions/3.11/lib/python3.11/site-packages (from pandas) (2024.2)\r\n",
      "Requirement already satisfied: tzdata>=2022.7 in /Library/Frameworks/Python.framework/Versions/3.11/lib/python3.11/site-packages (from pandas) (2024.2)\r\n",
      "Requirement already satisfied: six>=1.5 in /Library/Frameworks/Python.framework/Versions/3.11/lib/python3.11/site-packages (from python-dateutil>=2.8.2->pandas) (1.16.0)\r\n",
      "\u001B[33mWARNING: Ignoring invalid distribution ~ransformers (/Library/Frameworks/Python.framework/Versions/3.11/lib/python3.11/site-packages)\u001B[0m\u001B[33m\r\n",
      "\u001B[0m\u001B[33mWARNING: Ignoring invalid distribution ~ransformers (/Library/Frameworks/Python.framework/Versions/3.11/lib/python3.11/site-packages)\u001B[0m\u001B[33m\r\n",
      "\u001B[0m"
     ]
    }
   ],
   "source": [
    "!pip install pandas"
   ],
   "metadata": {
    "collapsed": false,
    "ExecuteTime": {
     "end_time": "2025-01-20T23:35:51.268174Z",
     "start_time": "2025-01-20T23:35:50.434390Z"
    }
   },
   "id": "69be3bd04b03062e",
   "execution_count": 100
  },
  {
   "cell_type": "code",
   "outputs": [
    {
     "name": "stdout",
     "output_type": "stream",
     "text": [
      "Number of transactions: 3\n"
     ]
    }
   ],
   "source": [
    "import re\n",
    "\n",
    "def get_transaction_count(line):\n",
    "    # Regular expression to match the transaction block\n",
    "    pattern = r\"transactions = \\{([^}]+)\\}\"\n",
    "    \n",
    "    # Search for transactions block in the line\n",
    "    match = re.search(pattern, line)\n",
    "    \n",
    "    if match:\n",
    "        # Extract transactions and find all unique transaction hashes\n",
    "        transaction_hashes = set(re.findall(r\"Transaction ([a-fA-F0-9]+)\", match.group(1)))\n",
    "        return len(transaction_hashes)  # Count unique transactions\n",
    "    \n",
    "    return 0\n",
    "\n",
    "# Test with a sample line\n",
    "line = \"2.78 - NODE - INFO - Node 39 appended SCPExternalize message to its storage and state, message = SCPExternalize(ballot=SCPBallot(counter=1, value=[Value, hash = 5071816607284402923, state = State.init, transactions = {[Transaction fb9069c time = 0.0000], [Transaction 77d28c42 time = 0.0000], [Transaction 5ddddb02 time = 0.0000]}]), hCounter=1)\"\n",
    "transaction_count = get_transaction_count(line)\n",
    "print(f\"Number of transactions: {transaction_count}\")"
   ],
   "metadata": {
    "collapsed": false,
    "ExecuteTime": {
     "end_time": "2025-01-20T23:35:51.273617Z",
     "start_time": "2025-01-20T23:35:51.270641Z"
    }
   },
   "id": "2de1fb815eb3522a",
   "execution_count": 101
  },
  {
   "cell_type": "code",
   "outputs": [
    {
     "name": "stdout",
     "output_type": "stream",
     "text": [
      "Timestamp: 2.78\n"
     ]
    }
   ],
   "source": [
    "# Get timestamp of ledger\n",
    "import re\n",
    "\n",
    "def get_timestamp(line):\n",
    "    pattern = r\"^\\d+\\.\\d+\" # Regular expression to match the first number (timestamp) in the line\n",
    "    \n",
    "    match = re.match(pattern, line) # Search for the timestamp at the beginning of the line\n",
    "    \n",
    "    if match:\n",
    "        return float(match.group(0))\n",
    "    \n",
    "    return None\n",
    "\n",
    "# Test with a sample line\n",
    "line = \"2.78 - NODE - INFO - Node 39 appended SCPExternalize message to its storage and state, message = SCPExternalize(ballot=SCPBallot(counter=1, value=[Value, hash = 5071816607284402923, state = State.init, transactions = {[Transaction fb9069c time = 0.0000], [Transaction 77d28c42 time = 0.0000], [Transaction 5ddddb02 time = 0.0000]}]), hCounter=1)\"\n",
    "timestamp = get_timestamp(line)\n",
    "print(f\"Timestamp: {timestamp}\")"
   ],
   "metadata": {
    "collapsed": false,
    "ExecuteTime": {
     "end_time": "2025-01-20T23:35:51.278309Z",
     "start_time": "2025-01-20T23:35:51.275610Z"
    }
   },
   "id": "11c6769b0e717212",
   "execution_count": 102
  },
  {
   "cell_type": "code",
   "outputs": [
    {
     "name": "stdout",
     "output_type": "stream",
     "text": [
      "Node name: Node 39\n"
     ]
    }
   ],
   "source": [
    "import re\n",
    "\n",
    "def get_node_name(line):\n",
    "    # Regular expression to match the node number after 'Node'\n",
    "    pattern = r\"Node (\\d+)\"\n",
    "    \n",
    "    # Search for the node number in the line\n",
    "    match = re.search(pattern, line)\n",
    "    \n",
    "    if match:\n",
    "        return f\"Node {match.group(1)}\"\n",
    "    \n",
    "    return None\n",
    "\n",
    "# Test with a sample line\n",
    "line = \"2.78 - NODE - INFO - Node 39 appended SCPExternalize message to its storage and state, message = SCPExternalize(ballot=SCPBallot(counter=1, value=[Value, hash = 5071816607284402923, state = State.init, transactions = {[Transaction fb9069c time = 0.0000], [Transaction 77d28c42 time = 0.0000], [Transaction 5ddddb02 time = 0.0000]}]), hCounter=1)\"\n",
    "node_name = get_node_name(line)\n",
    "print(f\"Node name: {node_name}\")"
   ],
   "metadata": {
    "collapsed": false,
    "ExecuteTime": {
     "end_time": "2025-01-20T23:35:51.283337Z",
     "start_time": "2025-01-20T23:35:51.281012Z"
    }
   },
   "id": "99eefcdff02b2ee3",
   "execution_count": 103
  },
  {
   "cell_type": "code",
   "outputs": [
    {
     "name": "stdout",
     "output_type": "stream",
     "text": [
      "Unique transactions retrieved from mempool for Node 19: 55\n"
     ]
    }
   ],
   "source": [
    "import re\n",
    "\n",
    "def count_unique_mempool_transactions(file_path, node_number):\n",
    "    unique_transactions = set()\n",
    "\n",
    "    with open(file_path, 'r') as file:\n",
    "        lines = file.readlines()\n",
    "\n",
    "    for line in lines:\n",
    "        # Check if the line contains the specified node and 'from mempool'\n",
    "        if node_number in line and \"from mempool\" in line:\n",
    "            transaction_matches = re.findall(r\"Transaction ([a-fA-F0-9]+)\", line) # Extract transaction hashes\n",
    "            unique_transactions.update(transaction_matches)\n",
    "\n",
    "    return len(unique_transactions)\n",
    "\n",
    "file_path = 'src/simulator_events_log.txt'\n",
    "node = \"Node 19\"\n",
    "unique_tx_count = count_unique_mempool_transactions(file_path, node)\n",
    "\n",
    "print(f\"Unique transactions retrieved from mempool for {node}: {unique_tx_count}\")"
   ],
   "metadata": {
    "collapsed": false,
    "ExecuteTime": {
     "end_time": "2025-01-20T23:35:51.308283Z",
     "start_time": "2025-01-20T23:35:51.284692Z"
    }
   },
   "id": "a3d1f95286922663",
   "execution_count": 104
  },
  {
   "cell_type": "markdown",
   "source": [
    "FINAL PROCESS LOG LINES FUNCTION"
   ],
   "metadata": {
    "collapsed": false
   },
   "id": "df7254891dde92aa"
  },
  {
   "cell_type": "code",
   "outputs": [],
   "source": [
    "import pandas as pd\n",
    "\n",
    "def process_log_lines(file_path):\n",
    "    node_data = {}\n",
    "\n",
    "    with open(file_path, 'r') as file:\n",
    "        lines = file.readlines()\n",
    "\n",
    "    for line in lines:\n",
    "        if 'appended SCPExternalize message to its storage and state' not in line:\n",
    "            continue\n",
    "\n",
    "        node_name = get_node_name(line)\n",
    "        timestamp = get_timestamp(line)\n",
    "        transaction_count = get_transaction_count(line)\n",
    "        externalize_message = line\n",
    "\n",
    "        if node_name:\n",
    "            node_data[node_name] = {\n",
    "                \"sequence number\": node_name,\n",
    "                \"Timestamp of finalisation\": timestamp,\n",
    "                \"No. of finalised transactions\": transaction_count,\n",
    "                \"Externalize message\": externalize_message,\n",
    "            }\n",
    "\n",
    "    df = pd.DataFrame(node_data.values())\n",
    "\n",
    "    df[\"total_transactions\"] = df[\"sequence number\"].apply(lambda node: count_unique_mempool_transactions(file_path, node))\n",
    "    \n",
    "    df[\"no. of transactions not finalised\"] = df[\"total_transactions\"] - df[\"No. of finalised transactions\"]\n",
    "\n",
    "    return df"
   ],
   "metadata": {
    "collapsed": false,
    "ExecuteTime": {
     "end_time": "2025-01-20T23:35:51.308633Z",
     "start_time": "2025-01-20T23:35:51.300712Z"
    }
   },
   "id": "5cb06702053bb065",
   "execution_count": 105
  },
  {
   "cell_type": "code",
   "outputs": [
    {
     "data": {
      "text/plain": "   sequence number  Timestamp of finalisation  No. of finalised transactions  \\\n4           Node 7                      88.38                              6   \n19          Node 2                     137.81                              3   \n0          Node 56                     164.66                              3   \n9          Node 27                     171.60                              3   \n22         Node 10                     180.19                              1   \n30          Node 9                     181.95                              1   \n7          Node 49                     185.38                              2   \n26         Node 47                     193.06                              3   \n17         Node 33                     200.64                             11   \n28         Node 35                     222.79                             12   \n38         Node 28                     224.67                              1   \n36          Node 8                     224.87                              4   \n35         Node 48                     226.32                              5   \n40         Node 24                     229.51                              3   \n41         Node 13                     232.16                              3   \n34         Node 26                     232.39                             12   \n33          Node 5                     232.82                              4   \n18         Node 19                     236.80                              1   \n27         Node 21                     237.74                              5   \n8          Node 50                     244.64                              6   \n31         Node 23                     244.89                             12   \n11          Node 1                     247.27                              5   \n42         Node 37                     248.23                              5   \n3          Node 58                     248.52                              3   \n21         Node 42                     249.06                             11   \n12         Node 30                     256.03                              6   \n25         Node 11                     256.05                              9   \n15         Node 57                     260.42                             11   \n29         Node 36                     263.12                             10   \n45         Node 46                     263.98                             10   \n47         Node 40                     266.24                              7   \n46         Node 31                     267.35                             12   \n5          Node 55                     274.80                              5   \n44         Node 20                     274.84                              4   \n48         Node 22                     278.02                              9   \n2          Node 12                     280.30                              5   \n37         Node 54                     280.55                              1   \n6          Node 53                     282.63                              4   \n20         Node 44                     282.69                              3   \n10         Node 25                     282.89                              9   \n1          Node 29                     283.17                              1   \n24         Node 32                     285.64                              5   \n13         Node 43                     291.12                              7   \n43         Node 14                     291.79                             13   \n49         Node 52                     293.89                             14   \n23         Node 39                     296.06                              6   \n39          Node 6                     296.70                             10   \n32         Node 16                     296.80                              5   \n16          Node 3                     298.29                              5   \n14          Node 0                     298.80                             21   \n\n                                  Externalize message  total_transactions  \\\n4   88.38 - NODE - INFO - Node 7 appended SCPExter...                  54   \n19  137.81 - NODE - INFO - Node 2 appended SCPExte...                  61   \n0   164.66 - NODE - INFO - Node 56 appended SCPExt...                  52   \n9   171.60 - NODE - INFO - Node 27 appended SCPExt...                  55   \n22  180.19 - NODE - INFO - Node 10 appended SCPExt...                  56   \n30  181.95 - NODE - INFO - Node 9 appended SCPExte...                  54   \n7   185.38 - NODE - INFO - Node 49 appended SCPExt...                  56   \n26  193.06 - NODE - INFO - Node 47 appended SCPExt...                  55   \n17  200.64 - NODE - INFO - Node 33 appended SCPExt...                  56   \n28  222.79 - NODE - INFO - Node 35 appended SCPExt...                  54   \n38  224.67 - NODE - INFO - Node 28 appended SCPExt...                  55   \n36  224.87 - NODE - INFO - Node 8 appended SCPExte...                  57   \n35  226.32 - NODE - INFO - Node 48 appended SCPExt...                  55   \n40  229.51 - NODE - INFO - Node 24 appended SCPExt...                  55   \n41  232.16 - NODE - INFO - Node 13 appended SCPExt...                  55   \n34  232.39 - NODE - INFO - Node 26 appended SCPExt...                  57   \n33  232.82 - NODE - INFO - Node 5 appended SCPExte...                  61   \n18  236.80 - NODE - INFO - Node 19 appended SCPExt...                  55   \n27  237.74 - NODE - INFO - Node 21 appended SCPExt...                  55   \n8   244.64 - NODE - INFO - Node 50 appended SCPExt...                  58   \n31  244.89 - NODE - INFO - Node 23 appended SCPExt...                  54   \n11  247.27 - NODE - INFO - Node 1 appended SCPExte...                  61   \n42  248.23 - NODE - INFO - Node 37 appended SCPExt...                  54   \n3   248.52 - NODE - INFO - Node 58 appended SCPExt...                  55   \n21  249.06 - NODE - INFO - Node 42 appended SCPExt...                  56   \n12  256.03 - NODE - INFO - Node 30 appended SCPExt...                  57   \n25  256.05 - NODE - INFO - Node 11 appended SCPExt...                  54   \n15  260.42 - NODE - INFO - Node 57 appended SCPExt...                  55   \n29  263.12 - NODE - INFO - Node 36 appended SCPExt...                  53   \n45  263.98 - NODE - INFO - Node 46 appended SCPExt...                  52   \n47  266.24 - NODE - INFO - Node 40 appended SCPExt...                  54   \n46  267.35 - NODE - INFO - Node 31 appended SCPExt...                  57   \n5   274.80 - NODE - INFO - Node 55 appended SCPExt...                  56   \n44  274.84 - NODE - INFO - Node 20 appended SCPExt...                  55   \n48  278.02 - NODE - INFO - Node 22 appended SCPExt...                  54   \n2   280.30 - NODE - INFO - Node 12 appended SCPExt...                  56   \n37  280.55 - NODE - INFO - Node 54 appended SCPExt...                  57   \n6   282.63 - NODE - INFO - Node 53 appended SCPExt...                  56   \n20  282.69 - NODE - INFO - Node 44 appended SCPExt...                  55   \n10  282.89 - NODE - INFO - Node 25 appended SCPExt...                  55   \n1   283.17 - NODE - INFO - Node 29 appended SCPExt...                  56   \n24  285.64 - NODE - INFO - Node 32 appended SCPExt...                  56   \n13  291.12 - NODE - INFO - Node 43 appended SCPExt...                  56   \n43  291.79 - NODE - INFO - Node 14 appended SCPExt...                  54   \n49  293.89 - NODE - INFO - Node 52 appended SCPExt...                  55   \n23  296.06 - NODE - INFO - Node 39 appended SCPExt...                  56   \n39  296.70 - NODE - INFO - Node 6 appended SCPExte...                  53   \n32  296.80 - NODE - INFO - Node 16 appended SCPExt...                  52   \n16  298.29 - NODE - INFO - Node 3 appended SCPExte...                  61   \n14  298.80 - NODE - INFO - Node 0 appended SCPExte...                  55   \n\n    no. of transactions not finalised  \n4                                  48  \n19                                 58  \n0                                  49  \n9                                  52  \n22                                 55  \n30                                 53  \n7                                  54  \n26                                 52  \n17                                 45  \n28                                 42  \n38                                 54  \n36                                 53  \n35                                 50  \n40                                 52  \n41                                 52  \n34                                 45  \n33                                 57  \n18                                 54  \n27                                 50  \n8                                  52  \n31                                 42  \n11                                 56  \n42                                 49  \n3                                  52  \n21                                 45  \n12                                 51  \n25                                 45  \n15                                 44  \n29                                 43  \n45                                 42  \n47                                 47  \n46                                 45  \n5                                  51  \n44                                 51  \n48                                 45  \n2                                  51  \n37                                 56  \n6                                  52  \n20                                 52  \n10                                 46  \n1                                  55  \n24                                 51  \n13                                 49  \n43                                 41  \n49                                 41  \n23                                 50  \n39                                 43  \n32                                 47  \n16                                 56  \n14                                 34  ",
      "text/html": "<div>\n<style scoped>\n    .dataframe tbody tr th:only-of-type {\n        vertical-align: middle;\n    }\n\n    .dataframe tbody tr th {\n        vertical-align: top;\n    }\n\n    .dataframe thead th {\n        text-align: right;\n    }\n</style>\n<table border=\"1\" class=\"dataframe\">\n  <thead>\n    <tr style=\"text-align: right;\">\n      <th></th>\n      <th>sequence number</th>\n      <th>Timestamp of finalisation</th>\n      <th>No. of finalised transactions</th>\n      <th>Externalize message</th>\n      <th>total_transactions</th>\n      <th>no. of transactions not finalised</th>\n    </tr>\n  </thead>\n  <tbody>\n    <tr>\n      <th>4</th>\n      <td>Node 7</td>\n      <td>88.38</td>\n      <td>6</td>\n      <td>88.38 - NODE - INFO - Node 7 appended SCPExter...</td>\n      <td>54</td>\n      <td>48</td>\n    </tr>\n    <tr>\n      <th>19</th>\n      <td>Node 2</td>\n      <td>137.81</td>\n      <td>3</td>\n      <td>137.81 - NODE - INFO - Node 2 appended SCPExte...</td>\n      <td>61</td>\n      <td>58</td>\n    </tr>\n    <tr>\n      <th>0</th>\n      <td>Node 56</td>\n      <td>164.66</td>\n      <td>3</td>\n      <td>164.66 - NODE - INFO - Node 56 appended SCPExt...</td>\n      <td>52</td>\n      <td>49</td>\n    </tr>\n    <tr>\n      <th>9</th>\n      <td>Node 27</td>\n      <td>171.60</td>\n      <td>3</td>\n      <td>171.60 - NODE - INFO - Node 27 appended SCPExt...</td>\n      <td>55</td>\n      <td>52</td>\n    </tr>\n    <tr>\n      <th>22</th>\n      <td>Node 10</td>\n      <td>180.19</td>\n      <td>1</td>\n      <td>180.19 - NODE - INFO - Node 10 appended SCPExt...</td>\n      <td>56</td>\n      <td>55</td>\n    </tr>\n    <tr>\n      <th>30</th>\n      <td>Node 9</td>\n      <td>181.95</td>\n      <td>1</td>\n      <td>181.95 - NODE - INFO - Node 9 appended SCPExte...</td>\n      <td>54</td>\n      <td>53</td>\n    </tr>\n    <tr>\n      <th>7</th>\n      <td>Node 49</td>\n      <td>185.38</td>\n      <td>2</td>\n      <td>185.38 - NODE - INFO - Node 49 appended SCPExt...</td>\n      <td>56</td>\n      <td>54</td>\n    </tr>\n    <tr>\n      <th>26</th>\n      <td>Node 47</td>\n      <td>193.06</td>\n      <td>3</td>\n      <td>193.06 - NODE - INFO - Node 47 appended SCPExt...</td>\n      <td>55</td>\n      <td>52</td>\n    </tr>\n    <tr>\n      <th>17</th>\n      <td>Node 33</td>\n      <td>200.64</td>\n      <td>11</td>\n      <td>200.64 - NODE - INFO - Node 33 appended SCPExt...</td>\n      <td>56</td>\n      <td>45</td>\n    </tr>\n    <tr>\n      <th>28</th>\n      <td>Node 35</td>\n      <td>222.79</td>\n      <td>12</td>\n      <td>222.79 - NODE - INFO - Node 35 appended SCPExt...</td>\n      <td>54</td>\n      <td>42</td>\n    </tr>\n    <tr>\n      <th>38</th>\n      <td>Node 28</td>\n      <td>224.67</td>\n      <td>1</td>\n      <td>224.67 - NODE - INFO - Node 28 appended SCPExt...</td>\n      <td>55</td>\n      <td>54</td>\n    </tr>\n    <tr>\n      <th>36</th>\n      <td>Node 8</td>\n      <td>224.87</td>\n      <td>4</td>\n      <td>224.87 - NODE - INFO - Node 8 appended SCPExte...</td>\n      <td>57</td>\n      <td>53</td>\n    </tr>\n    <tr>\n      <th>35</th>\n      <td>Node 48</td>\n      <td>226.32</td>\n      <td>5</td>\n      <td>226.32 - NODE - INFO - Node 48 appended SCPExt...</td>\n      <td>55</td>\n      <td>50</td>\n    </tr>\n    <tr>\n      <th>40</th>\n      <td>Node 24</td>\n      <td>229.51</td>\n      <td>3</td>\n      <td>229.51 - NODE - INFO - Node 24 appended SCPExt...</td>\n      <td>55</td>\n      <td>52</td>\n    </tr>\n    <tr>\n      <th>41</th>\n      <td>Node 13</td>\n      <td>232.16</td>\n      <td>3</td>\n      <td>232.16 - NODE - INFO - Node 13 appended SCPExt...</td>\n      <td>55</td>\n      <td>52</td>\n    </tr>\n    <tr>\n      <th>34</th>\n      <td>Node 26</td>\n      <td>232.39</td>\n      <td>12</td>\n      <td>232.39 - NODE - INFO - Node 26 appended SCPExt...</td>\n      <td>57</td>\n      <td>45</td>\n    </tr>\n    <tr>\n      <th>33</th>\n      <td>Node 5</td>\n      <td>232.82</td>\n      <td>4</td>\n      <td>232.82 - NODE - INFO - Node 5 appended SCPExte...</td>\n      <td>61</td>\n      <td>57</td>\n    </tr>\n    <tr>\n      <th>18</th>\n      <td>Node 19</td>\n      <td>236.80</td>\n      <td>1</td>\n      <td>236.80 - NODE - INFO - Node 19 appended SCPExt...</td>\n      <td>55</td>\n      <td>54</td>\n    </tr>\n    <tr>\n      <th>27</th>\n      <td>Node 21</td>\n      <td>237.74</td>\n      <td>5</td>\n      <td>237.74 - NODE - INFO - Node 21 appended SCPExt...</td>\n      <td>55</td>\n      <td>50</td>\n    </tr>\n    <tr>\n      <th>8</th>\n      <td>Node 50</td>\n      <td>244.64</td>\n      <td>6</td>\n      <td>244.64 - NODE - INFO - Node 50 appended SCPExt...</td>\n      <td>58</td>\n      <td>52</td>\n    </tr>\n    <tr>\n      <th>31</th>\n      <td>Node 23</td>\n      <td>244.89</td>\n      <td>12</td>\n      <td>244.89 - NODE - INFO - Node 23 appended SCPExt...</td>\n      <td>54</td>\n      <td>42</td>\n    </tr>\n    <tr>\n      <th>11</th>\n      <td>Node 1</td>\n      <td>247.27</td>\n      <td>5</td>\n      <td>247.27 - NODE - INFO - Node 1 appended SCPExte...</td>\n      <td>61</td>\n      <td>56</td>\n    </tr>\n    <tr>\n      <th>42</th>\n      <td>Node 37</td>\n      <td>248.23</td>\n      <td>5</td>\n      <td>248.23 - NODE - INFO - Node 37 appended SCPExt...</td>\n      <td>54</td>\n      <td>49</td>\n    </tr>\n    <tr>\n      <th>3</th>\n      <td>Node 58</td>\n      <td>248.52</td>\n      <td>3</td>\n      <td>248.52 - NODE - INFO - Node 58 appended SCPExt...</td>\n      <td>55</td>\n      <td>52</td>\n    </tr>\n    <tr>\n      <th>21</th>\n      <td>Node 42</td>\n      <td>249.06</td>\n      <td>11</td>\n      <td>249.06 - NODE - INFO - Node 42 appended SCPExt...</td>\n      <td>56</td>\n      <td>45</td>\n    </tr>\n    <tr>\n      <th>12</th>\n      <td>Node 30</td>\n      <td>256.03</td>\n      <td>6</td>\n      <td>256.03 - NODE - INFO - Node 30 appended SCPExt...</td>\n      <td>57</td>\n      <td>51</td>\n    </tr>\n    <tr>\n      <th>25</th>\n      <td>Node 11</td>\n      <td>256.05</td>\n      <td>9</td>\n      <td>256.05 - NODE - INFO - Node 11 appended SCPExt...</td>\n      <td>54</td>\n      <td>45</td>\n    </tr>\n    <tr>\n      <th>15</th>\n      <td>Node 57</td>\n      <td>260.42</td>\n      <td>11</td>\n      <td>260.42 - NODE - INFO - Node 57 appended SCPExt...</td>\n      <td>55</td>\n      <td>44</td>\n    </tr>\n    <tr>\n      <th>29</th>\n      <td>Node 36</td>\n      <td>263.12</td>\n      <td>10</td>\n      <td>263.12 - NODE - INFO - Node 36 appended SCPExt...</td>\n      <td>53</td>\n      <td>43</td>\n    </tr>\n    <tr>\n      <th>45</th>\n      <td>Node 46</td>\n      <td>263.98</td>\n      <td>10</td>\n      <td>263.98 - NODE - INFO - Node 46 appended SCPExt...</td>\n      <td>52</td>\n      <td>42</td>\n    </tr>\n    <tr>\n      <th>47</th>\n      <td>Node 40</td>\n      <td>266.24</td>\n      <td>7</td>\n      <td>266.24 - NODE - INFO - Node 40 appended SCPExt...</td>\n      <td>54</td>\n      <td>47</td>\n    </tr>\n    <tr>\n      <th>46</th>\n      <td>Node 31</td>\n      <td>267.35</td>\n      <td>12</td>\n      <td>267.35 - NODE - INFO - Node 31 appended SCPExt...</td>\n      <td>57</td>\n      <td>45</td>\n    </tr>\n    <tr>\n      <th>5</th>\n      <td>Node 55</td>\n      <td>274.80</td>\n      <td>5</td>\n      <td>274.80 - NODE - INFO - Node 55 appended SCPExt...</td>\n      <td>56</td>\n      <td>51</td>\n    </tr>\n    <tr>\n      <th>44</th>\n      <td>Node 20</td>\n      <td>274.84</td>\n      <td>4</td>\n      <td>274.84 - NODE - INFO - Node 20 appended SCPExt...</td>\n      <td>55</td>\n      <td>51</td>\n    </tr>\n    <tr>\n      <th>48</th>\n      <td>Node 22</td>\n      <td>278.02</td>\n      <td>9</td>\n      <td>278.02 - NODE - INFO - Node 22 appended SCPExt...</td>\n      <td>54</td>\n      <td>45</td>\n    </tr>\n    <tr>\n      <th>2</th>\n      <td>Node 12</td>\n      <td>280.30</td>\n      <td>5</td>\n      <td>280.30 - NODE - INFO - Node 12 appended SCPExt...</td>\n      <td>56</td>\n      <td>51</td>\n    </tr>\n    <tr>\n      <th>37</th>\n      <td>Node 54</td>\n      <td>280.55</td>\n      <td>1</td>\n      <td>280.55 - NODE - INFO - Node 54 appended SCPExt...</td>\n      <td>57</td>\n      <td>56</td>\n    </tr>\n    <tr>\n      <th>6</th>\n      <td>Node 53</td>\n      <td>282.63</td>\n      <td>4</td>\n      <td>282.63 - NODE - INFO - Node 53 appended SCPExt...</td>\n      <td>56</td>\n      <td>52</td>\n    </tr>\n    <tr>\n      <th>20</th>\n      <td>Node 44</td>\n      <td>282.69</td>\n      <td>3</td>\n      <td>282.69 - NODE - INFO - Node 44 appended SCPExt...</td>\n      <td>55</td>\n      <td>52</td>\n    </tr>\n    <tr>\n      <th>10</th>\n      <td>Node 25</td>\n      <td>282.89</td>\n      <td>9</td>\n      <td>282.89 - NODE - INFO - Node 25 appended SCPExt...</td>\n      <td>55</td>\n      <td>46</td>\n    </tr>\n    <tr>\n      <th>1</th>\n      <td>Node 29</td>\n      <td>283.17</td>\n      <td>1</td>\n      <td>283.17 - NODE - INFO - Node 29 appended SCPExt...</td>\n      <td>56</td>\n      <td>55</td>\n    </tr>\n    <tr>\n      <th>24</th>\n      <td>Node 32</td>\n      <td>285.64</td>\n      <td>5</td>\n      <td>285.64 - NODE - INFO - Node 32 appended SCPExt...</td>\n      <td>56</td>\n      <td>51</td>\n    </tr>\n    <tr>\n      <th>13</th>\n      <td>Node 43</td>\n      <td>291.12</td>\n      <td>7</td>\n      <td>291.12 - NODE - INFO - Node 43 appended SCPExt...</td>\n      <td>56</td>\n      <td>49</td>\n    </tr>\n    <tr>\n      <th>43</th>\n      <td>Node 14</td>\n      <td>291.79</td>\n      <td>13</td>\n      <td>291.79 - NODE - INFO - Node 14 appended SCPExt...</td>\n      <td>54</td>\n      <td>41</td>\n    </tr>\n    <tr>\n      <th>49</th>\n      <td>Node 52</td>\n      <td>293.89</td>\n      <td>14</td>\n      <td>293.89 - NODE - INFO - Node 52 appended SCPExt...</td>\n      <td>55</td>\n      <td>41</td>\n    </tr>\n    <tr>\n      <th>23</th>\n      <td>Node 39</td>\n      <td>296.06</td>\n      <td>6</td>\n      <td>296.06 - NODE - INFO - Node 39 appended SCPExt...</td>\n      <td>56</td>\n      <td>50</td>\n    </tr>\n    <tr>\n      <th>39</th>\n      <td>Node 6</td>\n      <td>296.70</td>\n      <td>10</td>\n      <td>296.70 - NODE - INFO - Node 6 appended SCPExte...</td>\n      <td>53</td>\n      <td>43</td>\n    </tr>\n    <tr>\n      <th>32</th>\n      <td>Node 16</td>\n      <td>296.80</td>\n      <td>5</td>\n      <td>296.80 - NODE - INFO - Node 16 appended SCPExt...</td>\n      <td>52</td>\n      <td>47</td>\n    </tr>\n    <tr>\n      <th>16</th>\n      <td>Node 3</td>\n      <td>298.29</td>\n      <td>5</td>\n      <td>298.29 - NODE - INFO - Node 3 appended SCPExte...</td>\n      <td>61</td>\n      <td>56</td>\n    </tr>\n    <tr>\n      <th>14</th>\n      <td>Node 0</td>\n      <td>298.80</td>\n      <td>21</td>\n      <td>298.80 - NODE - INFO - Node 0 appended SCPExte...</td>\n      <td>55</td>\n      <td>34</td>\n    </tr>\n  </tbody>\n</table>\n</div>"
     },
     "metadata": {},
     "output_type": "display_data"
    }
   ],
   "source": [
    "file_path = 'src/simulator_events_log.txt'\n",
    "\n",
    "df = process_log_lines(file_path)\n",
    "df_sorted = df.sort_values(by='Timestamp of finalisation', ascending=True)\n",
    "\n",
    "display(df_sorted)"
   ],
   "metadata": {
    "collapsed": false,
    "ExecuteTime": {
     "end_time": "2025-01-20T23:35:51.617321Z",
     "start_time": "2025-01-20T23:35:51.303746Z"
    }
   },
   "id": "241e6b522d963ec3",
   "execution_count": 106
  },
  {
   "cell_type": "markdown",
   "source": [
    "ADD INTERLEDGER CHECKS"
   ],
   "metadata": {
    "collapsed": false
   },
   "id": "a8c23cf3429014b5"
  },
  {
   "cell_type": "code",
   "outputs": [
    {
     "name": "stdout",
     "output_type": "stream",
     "text": [
      "Average Inter-Ledger Agreement Time: 4.2942857142857145\n"
     ]
    }
   ],
   "source": [
    "def calculate_inter_ledger_agreement_time(df):\n",
    "    df = df.sort_values(by='Timestamp of finalisation')\n",
    "    time_diffs = df['Timestamp of finalisation'].diff().dropna()\n",
    "    \n",
    "    return time_diffs.mean()\n",
    "\n",
    "avg_time = calculate_inter_ledger_agreement_time(df_sorted)\n",
    "print(f\"Average Inter-Ledger Agreement Time: {avg_time}\")"
   ],
   "metadata": {
    "collapsed": false,
    "ExecuteTime": {
     "end_time": "2025-01-20T23:35:51.621302Z",
     "start_time": "2025-01-20T23:35:51.619416Z"
    }
   },
   "id": "4f6a1ea63b72affc",
   "execution_count": 107
  },
  {
   "cell_type": "code",
   "outputs": [
    {
     "data": {
      "text/plain": "   sequence number  Timestamp of finalisation  No. of finalised transactions  \\\n4           Node 7                      88.38                              6   \n19          Node 2                     137.81                              3   \n0          Node 56                     164.66                              3   \n9          Node 27                     171.60                              3   \n22         Node 10                     180.19                              1   \n30          Node 9                     181.95                              1   \n7          Node 49                     185.38                              2   \n26         Node 47                     193.06                              3   \n17         Node 33                     200.64                             11   \n28         Node 35                     222.79                             12   \n38         Node 28                     224.67                              1   \n36          Node 8                     224.87                              4   \n35         Node 48                     226.32                              5   \n40         Node 24                     229.51                              3   \n41         Node 13                     232.16                              3   \n34         Node 26                     232.39                             12   \n33          Node 5                     232.82                              4   \n18         Node 19                     236.80                              1   \n27         Node 21                     237.74                              5   \n8          Node 50                     244.64                              6   \n31         Node 23                     244.89                             12   \n11          Node 1                     247.27                              5   \n42         Node 37                     248.23                              5   \n3          Node 58                     248.52                              3   \n21         Node 42                     249.06                             11   \n12         Node 30                     256.03                              6   \n25         Node 11                     256.05                              9   \n15         Node 57                     260.42                             11   \n29         Node 36                     263.12                             10   \n45         Node 46                     263.98                             10   \n47         Node 40                     266.24                              7   \n46         Node 31                     267.35                             12   \n5          Node 55                     274.80                              5   \n44         Node 20                     274.84                              4   \n48         Node 22                     278.02                              9   \n2          Node 12                     280.30                              5   \n37         Node 54                     280.55                              1   \n6          Node 53                     282.63                              4   \n20         Node 44                     282.69                              3   \n10         Node 25                     282.89                              9   \n1          Node 29                     283.17                              1   \n24         Node 32                     285.64                              5   \n13         Node 43                     291.12                              7   \n43         Node 14                     291.79                             13   \n49         Node 52                     293.89                             14   \n23         Node 39                     296.06                              6   \n39          Node 6                     296.70                             10   \n32         Node 16                     296.80                              5   \n16          Node 3                     298.29                              5   \n14          Node 0                     298.80                             21   \n\n    no. of transactions not finalised  \n4                                  48  \n19                                 58  \n0                                  49  \n9                                  52  \n22                                 55  \n30                                 53  \n7                                  54  \n26                                 52  \n17                                 45  \n28                                 42  \n38                                 54  \n36                                 53  \n35                                 50  \n40                                 52  \n41                                 52  \n34                                 45  \n33                                 57  \n18                                 54  \n27                                 50  \n8                                  52  \n31                                 42  \n11                                 56  \n42                                 49  \n3                                  52  \n21                                 45  \n12                                 51  \n25                                 45  \n15                                 44  \n29                                 43  \n45                                 42  \n47                                 47  \n46                                 45  \n5                                  51  \n44                                 51  \n48                                 45  \n2                                  51  \n37                                 56  \n6                                  52  \n20                                 52  \n10                                 46  \n1                                  55  \n24                                 51  \n13                                 49  \n43                                 41  \n49                                 41  \n23                                 50  \n39                                 43  \n32                                 47  \n16                                 56  \n14                                 34  ",
      "text/html": "<div>\n<style scoped>\n    .dataframe tbody tr th:only-of-type {\n        vertical-align: middle;\n    }\n\n    .dataframe tbody tr th {\n        vertical-align: top;\n    }\n\n    .dataframe thead th {\n        text-align: right;\n    }\n</style>\n<table border=\"1\" class=\"dataframe\">\n  <thead>\n    <tr style=\"text-align: right;\">\n      <th></th>\n      <th>sequence number</th>\n      <th>Timestamp of finalisation</th>\n      <th>No. of finalised transactions</th>\n      <th>no. of transactions not finalised</th>\n    </tr>\n  </thead>\n  <tbody>\n    <tr>\n      <th>4</th>\n      <td>Node 7</td>\n      <td>88.38</td>\n      <td>6</td>\n      <td>48</td>\n    </tr>\n    <tr>\n      <th>19</th>\n      <td>Node 2</td>\n      <td>137.81</td>\n      <td>3</td>\n      <td>58</td>\n    </tr>\n    <tr>\n      <th>0</th>\n      <td>Node 56</td>\n      <td>164.66</td>\n      <td>3</td>\n      <td>49</td>\n    </tr>\n    <tr>\n      <th>9</th>\n      <td>Node 27</td>\n      <td>171.60</td>\n      <td>3</td>\n      <td>52</td>\n    </tr>\n    <tr>\n      <th>22</th>\n      <td>Node 10</td>\n      <td>180.19</td>\n      <td>1</td>\n      <td>55</td>\n    </tr>\n    <tr>\n      <th>30</th>\n      <td>Node 9</td>\n      <td>181.95</td>\n      <td>1</td>\n      <td>53</td>\n    </tr>\n    <tr>\n      <th>7</th>\n      <td>Node 49</td>\n      <td>185.38</td>\n      <td>2</td>\n      <td>54</td>\n    </tr>\n    <tr>\n      <th>26</th>\n      <td>Node 47</td>\n      <td>193.06</td>\n      <td>3</td>\n      <td>52</td>\n    </tr>\n    <tr>\n      <th>17</th>\n      <td>Node 33</td>\n      <td>200.64</td>\n      <td>11</td>\n      <td>45</td>\n    </tr>\n    <tr>\n      <th>28</th>\n      <td>Node 35</td>\n      <td>222.79</td>\n      <td>12</td>\n      <td>42</td>\n    </tr>\n    <tr>\n      <th>38</th>\n      <td>Node 28</td>\n      <td>224.67</td>\n      <td>1</td>\n      <td>54</td>\n    </tr>\n    <tr>\n      <th>36</th>\n      <td>Node 8</td>\n      <td>224.87</td>\n      <td>4</td>\n      <td>53</td>\n    </tr>\n    <tr>\n      <th>35</th>\n      <td>Node 48</td>\n      <td>226.32</td>\n      <td>5</td>\n      <td>50</td>\n    </tr>\n    <tr>\n      <th>40</th>\n      <td>Node 24</td>\n      <td>229.51</td>\n      <td>3</td>\n      <td>52</td>\n    </tr>\n    <tr>\n      <th>41</th>\n      <td>Node 13</td>\n      <td>232.16</td>\n      <td>3</td>\n      <td>52</td>\n    </tr>\n    <tr>\n      <th>34</th>\n      <td>Node 26</td>\n      <td>232.39</td>\n      <td>12</td>\n      <td>45</td>\n    </tr>\n    <tr>\n      <th>33</th>\n      <td>Node 5</td>\n      <td>232.82</td>\n      <td>4</td>\n      <td>57</td>\n    </tr>\n    <tr>\n      <th>18</th>\n      <td>Node 19</td>\n      <td>236.80</td>\n      <td>1</td>\n      <td>54</td>\n    </tr>\n    <tr>\n      <th>27</th>\n      <td>Node 21</td>\n      <td>237.74</td>\n      <td>5</td>\n      <td>50</td>\n    </tr>\n    <tr>\n      <th>8</th>\n      <td>Node 50</td>\n      <td>244.64</td>\n      <td>6</td>\n      <td>52</td>\n    </tr>\n    <tr>\n      <th>31</th>\n      <td>Node 23</td>\n      <td>244.89</td>\n      <td>12</td>\n      <td>42</td>\n    </tr>\n    <tr>\n      <th>11</th>\n      <td>Node 1</td>\n      <td>247.27</td>\n      <td>5</td>\n      <td>56</td>\n    </tr>\n    <tr>\n      <th>42</th>\n      <td>Node 37</td>\n      <td>248.23</td>\n      <td>5</td>\n      <td>49</td>\n    </tr>\n    <tr>\n      <th>3</th>\n      <td>Node 58</td>\n      <td>248.52</td>\n      <td>3</td>\n      <td>52</td>\n    </tr>\n    <tr>\n      <th>21</th>\n      <td>Node 42</td>\n      <td>249.06</td>\n      <td>11</td>\n      <td>45</td>\n    </tr>\n    <tr>\n      <th>12</th>\n      <td>Node 30</td>\n      <td>256.03</td>\n      <td>6</td>\n      <td>51</td>\n    </tr>\n    <tr>\n      <th>25</th>\n      <td>Node 11</td>\n      <td>256.05</td>\n      <td>9</td>\n      <td>45</td>\n    </tr>\n    <tr>\n      <th>15</th>\n      <td>Node 57</td>\n      <td>260.42</td>\n      <td>11</td>\n      <td>44</td>\n    </tr>\n    <tr>\n      <th>29</th>\n      <td>Node 36</td>\n      <td>263.12</td>\n      <td>10</td>\n      <td>43</td>\n    </tr>\n    <tr>\n      <th>45</th>\n      <td>Node 46</td>\n      <td>263.98</td>\n      <td>10</td>\n      <td>42</td>\n    </tr>\n    <tr>\n      <th>47</th>\n      <td>Node 40</td>\n      <td>266.24</td>\n      <td>7</td>\n      <td>47</td>\n    </tr>\n    <tr>\n      <th>46</th>\n      <td>Node 31</td>\n      <td>267.35</td>\n      <td>12</td>\n      <td>45</td>\n    </tr>\n    <tr>\n      <th>5</th>\n      <td>Node 55</td>\n      <td>274.80</td>\n      <td>5</td>\n      <td>51</td>\n    </tr>\n    <tr>\n      <th>44</th>\n      <td>Node 20</td>\n      <td>274.84</td>\n      <td>4</td>\n      <td>51</td>\n    </tr>\n    <tr>\n      <th>48</th>\n      <td>Node 22</td>\n      <td>278.02</td>\n      <td>9</td>\n      <td>45</td>\n    </tr>\n    <tr>\n      <th>2</th>\n      <td>Node 12</td>\n      <td>280.30</td>\n      <td>5</td>\n      <td>51</td>\n    </tr>\n    <tr>\n      <th>37</th>\n      <td>Node 54</td>\n      <td>280.55</td>\n      <td>1</td>\n      <td>56</td>\n    </tr>\n    <tr>\n      <th>6</th>\n      <td>Node 53</td>\n      <td>282.63</td>\n      <td>4</td>\n      <td>52</td>\n    </tr>\n    <tr>\n      <th>20</th>\n      <td>Node 44</td>\n      <td>282.69</td>\n      <td>3</td>\n      <td>52</td>\n    </tr>\n    <tr>\n      <th>10</th>\n      <td>Node 25</td>\n      <td>282.89</td>\n      <td>9</td>\n      <td>46</td>\n    </tr>\n    <tr>\n      <th>1</th>\n      <td>Node 29</td>\n      <td>283.17</td>\n      <td>1</td>\n      <td>55</td>\n    </tr>\n    <tr>\n      <th>24</th>\n      <td>Node 32</td>\n      <td>285.64</td>\n      <td>5</td>\n      <td>51</td>\n    </tr>\n    <tr>\n      <th>13</th>\n      <td>Node 43</td>\n      <td>291.12</td>\n      <td>7</td>\n      <td>49</td>\n    </tr>\n    <tr>\n      <th>43</th>\n      <td>Node 14</td>\n      <td>291.79</td>\n      <td>13</td>\n      <td>41</td>\n    </tr>\n    <tr>\n      <th>49</th>\n      <td>Node 52</td>\n      <td>293.89</td>\n      <td>14</td>\n      <td>41</td>\n    </tr>\n    <tr>\n      <th>23</th>\n      <td>Node 39</td>\n      <td>296.06</td>\n      <td>6</td>\n      <td>50</td>\n    </tr>\n    <tr>\n      <th>39</th>\n      <td>Node 6</td>\n      <td>296.70</td>\n      <td>10</td>\n      <td>43</td>\n    </tr>\n    <tr>\n      <th>32</th>\n      <td>Node 16</td>\n      <td>296.80</td>\n      <td>5</td>\n      <td>47</td>\n    </tr>\n    <tr>\n      <th>16</th>\n      <td>Node 3</td>\n      <td>298.29</td>\n      <td>5</td>\n      <td>56</td>\n    </tr>\n    <tr>\n      <th>14</th>\n      <td>Node 0</td>\n      <td>298.80</td>\n      <td>21</td>\n      <td>34</td>\n    </tr>\n  </tbody>\n</table>\n</div>"
     },
     "metadata": {},
     "output_type": "display_data"
    }
   ],
   "source": [
    "final_experiment_df = df_sorted[[\n",
    "    \"sequence number\",\n",
    "    \"Timestamp of finalisation\",\n",
    "    \"No. of finalised transactions\",\n",
    "    \"no. of transactions not finalised\"\n",
    "]]\n",
    "\n",
    "display(final_experiment_df)"
   ],
   "metadata": {
    "collapsed": false,
    "ExecuteTime": {
     "end_time": "2025-01-20T23:35:51.629702Z",
     "start_time": "2025-01-20T23:35:51.625953Z"
    }
   },
   "id": "18a0b7d813327d2f",
   "execution_count": 108
  },
  {
   "cell_type": "code",
   "outputs": [
    {
     "name": "stdout",
     "output_type": "stream",
     "text": [
      "Average difference: 42.84\n"
     ]
    }
   ],
   "source": [
    "avg_difference = (final_experiment_df[\"no. of transactions not finalised\"] - final_experiment_df[\"No. of finalised transactions\"]).mean()\n",
    "\n",
    "print(f\"Average difference: {avg_difference}\")"
   ],
   "metadata": {
    "collapsed": false,
    "ExecuteTime": {
     "end_time": "2025-01-20T23:35:51.633472Z",
     "start_time": "2025-01-20T23:35:51.630198Z"
    }
   },
   "id": "a183fd7400e7d199",
   "execution_count": 109
  },
  {
   "cell_type": "code",
   "outputs": [
    {
     "name": "stdout",
     "output_type": "stream",
     "text": [
      "Percentage of finalised transactions vs total: 11.42%\n"
     ]
    }
   ],
   "source": [
    "avg_finalised = final_experiment_df[\"No. of finalised transactions\"].mean()\n",
    "avg_total = (final_experiment_df[\"No. of finalised transactions\"] + \n",
    "             final_experiment_df[\"no. of transactions not finalised\"]).mean()\n",
    "\n",
    "finalised_percentage = (avg_finalised / avg_total) * 100 if avg_total != 0 else 0\n",
    "\n",
    "print(f\"Percentage of finalised transactions vs total: {finalised_percentage:.2f}%\")"
   ],
   "metadata": {
    "collapsed": false,
    "ExecuteTime": {
     "end_time": "2025-01-20T23:35:51.634501Z",
     "start_time": "2025-01-20T23:35:51.632897Z"
    }
   },
   "id": "4632d0b4bbcc90a4",
   "execution_count": 110
  }
 ],
 "metadata": {
  "kernelspec": {
   "display_name": "Python 3",
   "language": "python",
   "name": "python3"
  },
  "language_info": {
   "codemirror_mode": {
    "name": "ipython",
    "version": 2
   },
   "file_extension": ".py",
   "mimetype": "text/x-python",
   "name": "python",
   "nbconvert_exporter": "python",
   "pygments_lexer": "ipython2",
   "version": "2.7.6"
  }
 },
 "nbformat": 4,
 "nbformat_minor": 5
}
