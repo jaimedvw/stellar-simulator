{
 "cells": [
  {
   "cell_type": "code",
   "outputs": [
    {
     "name": "stdout",
     "output_type": "stream",
     "text": [
      "Requirement already satisfied: pandas in ./.venv/lib/python3.11/site-packages (2.2.3)\r\n",
      "Requirement already satisfied: numpy>=1.23.2 in ./.venv/lib/python3.11/site-packages (from pandas) (1.25.1)\r\n",
      "Requirement already satisfied: python-dateutil>=2.8.2 in ./.venv/lib/python3.11/site-packages (from pandas) (2.9.0.post0)\r\n",
      "Requirement already satisfied: pytz>=2020.1 in ./.venv/lib/python3.11/site-packages (from pandas) (2025.1)\r\n",
      "Requirement already satisfied: tzdata>=2022.7 in ./.venv/lib/python3.11/site-packages (from pandas) (2025.1)\r\n",
      "Requirement already satisfied: six>=1.5 in ./.venv/lib/python3.11/site-packages (from python-dateutil>=2.8.2->pandas) (1.17.0)\r\n",
      "\r\n",
      "\u001B[1m[\u001B[0m\u001B[34;49mnotice\u001B[0m\u001B[1;39;49m]\u001B[0m\u001B[39;49m A new release of pip is available: \u001B[0m\u001B[31;49m23.2.1\u001B[0m\u001B[39;49m -> \u001B[0m\u001B[32;49m25.0.1\u001B[0m\r\n",
      "\u001B[1m[\u001B[0m\u001B[34;49mnotice\u001B[0m\u001B[1;39;49m]\u001B[0m\u001B[39;49m To update, run: \u001B[0m\u001B[32;49mpip install --upgrade pip\u001B[0m\r\n"
     ]
    }
   ],
   "source": [
    "!pip install pandas"
   ],
   "metadata": {
    "collapsed": false,
    "ExecuteTime": {
     "end_time": "2025-03-26T20:09:15.299041Z",
     "start_time": "2025-03-26T20:09:14.397437Z"
    }
   },
   "id": "69be3bd04b03062e",
   "execution_count": 19
  },
  {
   "cell_type": "code",
   "outputs": [],
   "source": [
    "import re\n",
    "import pandas as pd\n",
    "from collections import defaultdict\n",
    "\n",
    "def get_transaction_count(line):\n",
    "    pattern = r\"transactions = \\{([^}]+)\\}\"\n",
    "    match = re.search(pattern, line)\n",
    "    if match:\n",
    "        return set(re.findall(r\"Transaction ([a-fA-F0-9]+)\", match.group(1)))\n",
    "    return set()\n",
    "\n",
    "def get_timestamp(line):\n",
    "    pattern = r\"^\\d+\\.\\d+\"\n",
    "    match = re.match(pattern, line)\n",
    "    return float(match.group(0)) if match else None\n",
    "\n",
    "def get_node_name(line):\n",
    "    pattern = r\"Node ([A-Za-z0-9]+)\"\n",
    "    match = re.search(pattern, line)\n",
    "    return match.group(1) if match else None\n",
    "\n",
    "def count_unique_mempool_transactions(file_path, node_number):\n",
    "    unique_transactions = set()\n",
    "    with open(file_path, 'r') as file:\n",
    "        for line in file:\n",
    "            if f\"Node {node_number}\" in line and \"from mempool\" in line:\n",
    "                unique_transactions.update(re.findall(r\"Transaction ([a-fA-F0-9]+)\", line))\n",
    "    return len(unique_transactions)\n",
    "\n",
    "def process_log_lines(file_path):\n",
    "    \"\"\"\n",
    "    Extracts **all** SCPExternalize messages per node and stores their relevant details.\n",
    "    A new column 'Slot' is added which numbers the messages in the order they are read.\n",
    "    \"\"\"\n",
    "    data = []\n",
    "\n",
    "    with open(file_path, 'r') as file:\n",
    "        for line in file:\n",
    "            # Only consider lines that contain relevant externalization messages\n",
    "            if (\"appended SCPExternalize message to its storage and state\" not in line and\n",
    "                \"adopting externalized value for slot\" not in line):\n",
    "                continue\n",
    "            \n",
    "            node_name = get_node_name(line)\n",
    "            timestamp = get_timestamp(line)\n",
    "            transactions = get_transaction_count(line)\n",
    "\n",
    "            if node_name:\n",
    "                data.append({\n",
    "                    \"node name\": node_name,\n",
    "                    \"Timestamp of finalisation\": timestamp,\n",
    "                    \"Finalised transactions\": transactions,\n",
    "                    \"Externalize message\": line.strip()\n",
    "                })\n",
    "    \n",
    "    # Convert the collected data to a DataFrame\n",
    "    df = pd.DataFrame(data)\n",
    "    \n",
    "    # For each node, assign a sequential slot number based on the order of appearance\n",
    "    df['Slot'] = df.groupby('node name').cumcount() + 1\n",
    "    \n",
    "    # Count the number of finalized transactions for each externalize message\n",
    "    df[\"No. of finalised transactions\"] = df[\"Finalised transactions\"].apply(len)\n",
    "    \n",
    "    # Compute total transactions for each node from mempool logs\n",
    "    df[\"total_transactions\"] = df[\"node name\"].apply(lambda node: count_unique_mempool_transactions(file_path, node))\n",
    "    \n",
    "    # Calculate number of transactions not finalized for each node\n",
    "    df[\"no. of transactions not finalised\"] = df[\"total_transactions\"] - df[\"No. of finalised transactions\"]\n",
    "\n",
    "    return df\n",
    "\n",
    "# Example usage:\n",
    "# file_path = 'path/to/your/simulator_events_log.txt'\n",
    "# df = process_log_lines(file_path)\n",
    "# print(df)\n"
   ],
   "metadata": {
    "collapsed": false,
    "ExecuteTime": {
     "end_time": "2025-03-26T20:09:15.309248Z",
     "start_time": "2025-03-26T20:09:15.305616Z"
    }
   },
   "id": "e5426146017cc83d",
   "execution_count": 20
  },
  {
   "cell_type": "code",
   "outputs": [
    {
     "data": {
      "text/plain": "   node name  Timestamp of finalisation               Finalised transactions                              Externalize message                  Slot  No. of finalised transactions  total_transactions  no. of transactions not finalised\n0      Inez            8.2100                                                   {e470f8e2}  8.21 - NODE - INFO - Node Inez appended SCPExt...    1                 1                        40                         39                \n1      Dave            8.8200                                         {e470f8e2, 48afd4ea}  8.82 - NODE - INFO - Node Dave appended SCPExt...    1                 2                        40                         38                \n2      Hank           13.8400                                                   {e470f8e2}  13.84 - NODE - INFO - Node Hank appended SCPEx...    1                 1                        39                         38                \n3     Alice           14.0400                                                   {e470f8e2}  14.04 - NODE - INFO - Node Alice appended SCPE...    1                 1                        43                         42                \n4      Fred           19.2700                     {10b700b0, b223a4e6, 7c064074, a36ca28e}  19.27 - NODE - INFO - Node Fred appended SCPEx...    1                 4                        43                         39                \n5     Elsie           19.6000                                         {e470f8e2, 48afd4ea}  19.60 - NODE - INFO - Node Elsie appended SCPE...    1                 2                        44                         42                \n6       Bob           21.0600                                         {e470f8e2, 36f3824c}  21.06 - NODE - INFO - Node Bob appended SCPExt...    1                 2                        43                         41                \n7     Alice           26.8500                     {d8e9ec31, b96df974, 7c064074, a36ca28e}  26.85 - NODE - INFO - Node Alice appended SCPE...    2                 4                        43                         39                \n8      Fred           30.8800                                                   {e470f8e2}  30.88 - NODE - INFO - Node Fred appended SCPEx...    2                 1                        43                         42                \n9      Hank           31.8700                                                   {e470f8e2}  31.87 - NODE - INFO - Node Hank appended SCPEx...    2                 1                        39                         38                \n10    Carol           34.2200            {da873faf, d8e9ec31, c318ccf2, b96df974, 29997...  34.22 - NODE - INFO - Node Carol appended SCPE...    1                13                        41                         28                \n11     Dave           34.7500            {8f22f12d, c318ccf2, 299975dd, f47ac8, 36f3824...  34.75 - NODE - INFO - Node Dave appended SCPEx...    2                12                        40                         28                \n12     Inez           35.1200            {d8e9ec31, c318ccf2, b96df974, 299975dd, 383ec...  35.12 - NODE - INFO - Node Inez appended SCPEx...    2                13                        40                         27                \n13     Gwen           35.2200            {c318ccf2, b3b505eb, 535ced63, 9ad98079, 10b70...  35.22 - NODE - INFO - Node Gwen appended SCPEx...    1                 7                        32                         25                \n14     John           38.3100                               {e470f8e2, 36f3824c, 48afd4ea}  38.31 - NODE - INFO - Node John appended SCPEx...    1                 3                        40                         37                \n15     Dave           38.4800            {d8e9ec31, 8f22f12d, c318ccf2, 299975dd, b3b50...  38.48 - NODE - INFO - Node Dave appended SCPEx...    3                13                        40                         27                \n16    Alice           46.4000            {d8e9ec31, c318ccf2, b96df974, b3b505eb, 383ec...  46.40 - NODE - INFO - Node Alice appended SCPE...    3                15                        43                         28                \n17      Bob           46.8500            {d8e9ec31, c318ccf2, 299975dd, b3b505eb, 535ce...  46.85 - NODE - INFO - Node Bob appended SCPExt...    2                12                        43                         31                \n18     Gwen           46.9700            {c318ccf2, b3b505eb, 535ced63, 9ad98079, 10b70...  46.97 - NODE - INFO - Node Gwen appended SCPEx...    2                 7                        32                         25                \n19     Dave           48.0600            {d8e9ec31, 8f22f12d, c318ccf2, ad052e51, 29997...  48.06 - NODE - INFO - Node Dave appended SCPEx...    4                17                        40                         23                \n20     Inez           53.6500            {da873faf, d8e9ec31, c318ccf2, b96df974, 29997...  53.65 - NODE - INFO - Node Inez appended SCPEx...    3                15                        40                         25                \n21     John           53.9000            {e470f8e2, d8e9ec31, 48afd4ea, 36f3824c, b223a...  53.90 - NODE - INFO - Node John appended SCPEx...    2                 6                        40                         34                \n22    Carol           55.9100            {f0e02fe6, f47ac8, 383ecca9, b3b505eb, 75251da...  55.91 - NODE - INFO - Node Carol appended SCPE...    2                11                        41                         30                \n23     Fred           56.2000                                                   {e470f8e2}  56.20 - NODE - INFO - Node Fred appended SCPEx...    3                 1                        43                         42                \n24    Elsie           57.3800            {da873faf, c318ccf2, 299975dd, 383ecca9, 36f38...  57.38 - NODE - INFO - Node Elsie appended SCPE...    2                15                        44                         29                \n25     Gwen           63.2800            {c318ccf2, b3b505eb, 535ced63, 9ad98079, 10b70...  63.28 - NODE - INFO - Node Gwen appended SCPEx...    3                 7                        32                         25                \n26      Bob           63.9800            {e470f8e2, d8e9ec31, c318ccf2, 299975dd, b3b50...  63.98 - NODE - INFO - Node Bob appended SCPExt...    3                14                        43                         29                \n27     John           64.3200                               {e470f8e2, 36f3824c, 48afd4ea}  64.32 - NODE - INFO - Node John appended SCPEx...    3                 3                        40                         37                \n28     Fred           65.4000            {d8e9ec31, b96df974, 299975dd, 535ced63, 9ad98...  65.40 - NODE - INFO - Node Fred appended SCPEx...    4                 7                        43                         36                \n29    Carol           65.4300            {d8e9ec31, 2ecc18ea, c318ccf2, f0e02fe6, 383ec...  65.43 - NODE - INFO - Node Carol appended SCPE...    3                17                        41                         24                \n30    Elsie           71.6300            {b223a4e6, bf649c7, c318ccf2, 48afd4ea, ad052e...  71.63 - NODE - INFO - Node Elsie appended SCPE...    3                25                        44                         19                \n31     Hank           73.3800                     {d8e9ec31, 36f3824c, 10b700b0, b223a4e6}  73.38 - NODE - INFO - Node Hank appended SCPEx...    3                 4                        39                         35                ",
      "text/html": "<div>\n<style scoped>\n    .dataframe tbody tr th:only-of-type {\n        vertical-align: middle;\n    }\n\n    .dataframe tbody tr th {\n        vertical-align: top;\n    }\n\n    .dataframe thead th {\n        text-align: right;\n    }\n</style>\n<table border=\"1\" class=\"dataframe\">\n  <thead>\n    <tr style=\"text-align: center;\">\n      <th></th>\n      <th>node name</th>\n      <th>Timestamp of finalisation</th>\n      <th>Finalised transactions</th>\n      <th>Externalize message</th>\n      <th>Slot</th>\n      <th>No. of finalised transactions</th>\n      <th>total_transactions</th>\n      <th>no. of transactions not finalised</th>\n    </tr>\n  </thead>\n  <tbody>\n    <tr>\n      <th>0</th>\n      <td>Inez</td>\n      <td>8.2100</td>\n      <td>{e470f8e2}</td>\n      <td>8.21 - NODE - INFO - Node Inez appended SCPExt...</td>\n      <td>1</td>\n      <td>1</td>\n      <td>40</td>\n      <td>39</td>\n    </tr>\n    <tr>\n      <th>1</th>\n      <td>Dave</td>\n      <td>8.8200</td>\n      <td>{e470f8e2, 48afd4ea}</td>\n      <td>8.82 - NODE - INFO - Node Dave appended SCPExt...</td>\n      <td>1</td>\n      <td>2</td>\n      <td>40</td>\n      <td>38</td>\n    </tr>\n    <tr>\n      <th>2</th>\n      <td>Hank</td>\n      <td>13.8400</td>\n      <td>{e470f8e2}</td>\n      <td>13.84 - NODE - INFO - Node Hank appended SCPEx...</td>\n      <td>1</td>\n      <td>1</td>\n      <td>39</td>\n      <td>38</td>\n    </tr>\n    <tr>\n      <th>3</th>\n      <td>Alice</td>\n      <td>14.0400</td>\n      <td>{e470f8e2}</td>\n      <td>14.04 - NODE - INFO - Node Alice appended SCPE...</td>\n      <td>1</td>\n      <td>1</td>\n      <td>43</td>\n      <td>42</td>\n    </tr>\n    <tr>\n      <th>4</th>\n      <td>Fred</td>\n      <td>19.2700</td>\n      <td>{10b700b0, b223a4e6, 7c064074, a36ca28e}</td>\n      <td>19.27 - NODE - INFO - Node Fred appended SCPEx...</td>\n      <td>1</td>\n      <td>4</td>\n      <td>43</td>\n      <td>39</td>\n    </tr>\n    <tr>\n      <th>5</th>\n      <td>Elsie</td>\n      <td>19.6000</td>\n      <td>{e470f8e2, 48afd4ea}</td>\n      <td>19.60 - NODE - INFO - Node Elsie appended SCPE...</td>\n      <td>1</td>\n      <td>2</td>\n      <td>44</td>\n      <td>42</td>\n    </tr>\n    <tr>\n      <th>6</th>\n      <td>Bob</td>\n      <td>21.0600</td>\n      <td>{e470f8e2, 36f3824c}</td>\n      <td>21.06 - NODE - INFO - Node Bob appended SCPExt...</td>\n      <td>1</td>\n      <td>2</td>\n      <td>43</td>\n      <td>41</td>\n    </tr>\n    <tr>\n      <th>7</th>\n      <td>Alice</td>\n      <td>26.8500</td>\n      <td>{d8e9ec31, b96df974, 7c064074, a36ca28e}</td>\n      <td>26.85 - NODE - INFO - Node Alice appended SCPE...</td>\n      <td>2</td>\n      <td>4</td>\n      <td>43</td>\n      <td>39</td>\n    </tr>\n    <tr>\n      <th>8</th>\n      <td>Fred</td>\n      <td>30.8800</td>\n      <td>{e470f8e2}</td>\n      <td>30.88 - NODE - INFO - Node Fred appended SCPEx...</td>\n      <td>2</td>\n      <td>1</td>\n      <td>43</td>\n      <td>42</td>\n    </tr>\n    <tr>\n      <th>9</th>\n      <td>Hank</td>\n      <td>31.8700</td>\n      <td>{e470f8e2}</td>\n      <td>31.87 - NODE - INFO - Node Hank appended SCPEx...</td>\n      <td>2</td>\n      <td>1</td>\n      <td>39</td>\n      <td>38</td>\n    </tr>\n    <tr>\n      <th>10</th>\n      <td>Carol</td>\n      <td>34.2200</td>\n      <td>{da873faf, d8e9ec31, c318ccf2, b96df974, 29997...</td>\n      <td>34.22 - NODE - INFO - Node Carol appended SCPE...</td>\n      <td>1</td>\n      <td>13</td>\n      <td>41</td>\n      <td>28</td>\n    </tr>\n    <tr>\n      <th>11</th>\n      <td>Dave</td>\n      <td>34.7500</td>\n      <td>{8f22f12d, c318ccf2, 299975dd, f47ac8, 36f3824...</td>\n      <td>34.75 - NODE - INFO - Node Dave appended SCPEx...</td>\n      <td>2</td>\n      <td>12</td>\n      <td>40</td>\n      <td>28</td>\n    </tr>\n    <tr>\n      <th>12</th>\n      <td>Inez</td>\n      <td>35.1200</td>\n      <td>{d8e9ec31, c318ccf2, b96df974, 299975dd, 383ec...</td>\n      <td>35.12 - NODE - INFO - Node Inez appended SCPEx...</td>\n      <td>2</td>\n      <td>13</td>\n      <td>40</td>\n      <td>27</td>\n    </tr>\n    <tr>\n      <th>13</th>\n      <td>Gwen</td>\n      <td>35.2200</td>\n      <td>{c318ccf2, b3b505eb, 535ced63, 9ad98079, 10b70...</td>\n      <td>35.22 - NODE - INFO - Node Gwen appended SCPEx...</td>\n      <td>1</td>\n      <td>7</td>\n      <td>32</td>\n      <td>25</td>\n    </tr>\n    <tr>\n      <th>14</th>\n      <td>John</td>\n      <td>38.3100</td>\n      <td>{e470f8e2, 36f3824c, 48afd4ea}</td>\n      <td>38.31 - NODE - INFO - Node John appended SCPEx...</td>\n      <td>1</td>\n      <td>3</td>\n      <td>40</td>\n      <td>37</td>\n    </tr>\n    <tr>\n      <th>15</th>\n      <td>Dave</td>\n      <td>38.4800</td>\n      <td>{d8e9ec31, 8f22f12d, c318ccf2, 299975dd, b3b50...</td>\n      <td>38.48 - NODE - INFO - Node Dave appended SCPEx...</td>\n      <td>3</td>\n      <td>13</td>\n      <td>40</td>\n      <td>27</td>\n    </tr>\n    <tr>\n      <th>16</th>\n      <td>Alice</td>\n      <td>46.4000</td>\n      <td>{d8e9ec31, c318ccf2, b96df974, b3b505eb, 383ec...</td>\n      <td>46.40 - NODE - INFO - Node Alice appended SCPE...</td>\n      <td>3</td>\n      <td>15</td>\n      <td>43</td>\n      <td>28</td>\n    </tr>\n    <tr>\n      <th>17</th>\n      <td>Bob</td>\n      <td>46.8500</td>\n      <td>{d8e9ec31, c318ccf2, 299975dd, b3b505eb, 535ce...</td>\n      <td>46.85 - NODE - INFO - Node Bob appended SCPExt...</td>\n      <td>2</td>\n      <td>12</td>\n      <td>43</td>\n      <td>31</td>\n    </tr>\n    <tr>\n      <th>18</th>\n      <td>Gwen</td>\n      <td>46.9700</td>\n      <td>{c318ccf2, b3b505eb, 535ced63, 9ad98079, 10b70...</td>\n      <td>46.97 - NODE - INFO - Node Gwen appended SCPEx...</td>\n      <td>2</td>\n      <td>7</td>\n      <td>32</td>\n      <td>25</td>\n    </tr>\n    <tr>\n      <th>19</th>\n      <td>Dave</td>\n      <td>48.0600</td>\n      <td>{d8e9ec31, 8f22f12d, c318ccf2, ad052e51, 29997...</td>\n      <td>48.06 - NODE - INFO - Node Dave appended SCPEx...</td>\n      <td>4</td>\n      <td>17</td>\n      <td>40</td>\n      <td>23</td>\n    </tr>\n    <tr>\n      <th>20</th>\n      <td>Inez</td>\n      <td>53.6500</td>\n      <td>{da873faf, d8e9ec31, c318ccf2, b96df974, 29997...</td>\n      <td>53.65 - NODE - INFO - Node Inez appended SCPEx...</td>\n      <td>3</td>\n      <td>15</td>\n      <td>40</td>\n      <td>25</td>\n    </tr>\n    <tr>\n      <th>21</th>\n      <td>John</td>\n      <td>53.9000</td>\n      <td>{e470f8e2, d8e9ec31, 48afd4ea, 36f3824c, b223a...</td>\n      <td>53.90 - NODE - INFO - Node John appended SCPEx...</td>\n      <td>2</td>\n      <td>6</td>\n      <td>40</td>\n      <td>34</td>\n    </tr>\n    <tr>\n      <th>22</th>\n      <td>Carol</td>\n      <td>55.9100</td>\n      <td>{f0e02fe6, f47ac8, 383ecca9, b3b505eb, 75251da...</td>\n      <td>55.91 - NODE - INFO - Node Carol appended SCPE...</td>\n      <td>2</td>\n      <td>11</td>\n      <td>41</td>\n      <td>30</td>\n    </tr>\n    <tr>\n      <th>23</th>\n      <td>Fred</td>\n      <td>56.2000</td>\n      <td>{e470f8e2}</td>\n      <td>56.20 - NODE - INFO - Node Fred appended SCPEx...</td>\n      <td>3</td>\n      <td>1</td>\n      <td>43</td>\n      <td>42</td>\n    </tr>\n    <tr>\n      <th>24</th>\n      <td>Elsie</td>\n      <td>57.3800</td>\n      <td>{da873faf, c318ccf2, 299975dd, 383ecca9, 36f38...</td>\n      <td>57.38 - NODE - INFO - Node Elsie appended SCPE...</td>\n      <td>2</td>\n      <td>15</td>\n      <td>44</td>\n      <td>29</td>\n    </tr>\n    <tr>\n      <th>25</th>\n      <td>Gwen</td>\n      <td>63.2800</td>\n      <td>{c318ccf2, b3b505eb, 535ced63, 9ad98079, 10b70...</td>\n      <td>63.28 - NODE - INFO - Node Gwen appended SCPEx...</td>\n      <td>3</td>\n      <td>7</td>\n      <td>32</td>\n      <td>25</td>\n    </tr>\n    <tr>\n      <th>26</th>\n      <td>Bob</td>\n      <td>63.9800</td>\n      <td>{e470f8e2, d8e9ec31, c318ccf2, 299975dd, b3b50...</td>\n      <td>63.98 - NODE - INFO - Node Bob appended SCPExt...</td>\n      <td>3</td>\n      <td>14</td>\n      <td>43</td>\n      <td>29</td>\n    </tr>\n    <tr>\n      <th>27</th>\n      <td>John</td>\n      <td>64.3200</td>\n      <td>{e470f8e2, 36f3824c, 48afd4ea}</td>\n      <td>64.32 - NODE - INFO - Node John appended SCPEx...</td>\n      <td>3</td>\n      <td>3</td>\n      <td>40</td>\n      <td>37</td>\n    </tr>\n    <tr>\n      <th>28</th>\n      <td>Fred</td>\n      <td>65.4000</td>\n      <td>{d8e9ec31, b96df974, 299975dd, 535ced63, 9ad98...</td>\n      <td>65.40 - NODE - INFO - Node Fred appended SCPEx...</td>\n      <td>4</td>\n      <td>7</td>\n      <td>43</td>\n      <td>36</td>\n    </tr>\n    <tr>\n      <th>29</th>\n      <td>Carol</td>\n      <td>65.4300</td>\n      <td>{d8e9ec31, 2ecc18ea, c318ccf2, f0e02fe6, 383ec...</td>\n      <td>65.43 - NODE - INFO - Node Carol appended SCPE...</td>\n      <td>3</td>\n      <td>17</td>\n      <td>41</td>\n      <td>24</td>\n    </tr>\n    <tr>\n      <th>30</th>\n      <td>Elsie</td>\n      <td>71.6300</td>\n      <td>{b223a4e6, bf649c7, c318ccf2, 48afd4ea, ad052e...</td>\n      <td>71.63 - NODE - INFO - Node Elsie appended SCPE...</td>\n      <td>3</td>\n      <td>25</td>\n      <td>44</td>\n      <td>19</td>\n    </tr>\n    <tr>\n      <th>31</th>\n      <td>Hank</td>\n      <td>73.3800</td>\n      <td>{d8e9ec31, 36f3824c, 10b700b0, b223a4e6}</td>\n      <td>73.38 - NODE - INFO - Node Hank appended SCPEx...</td>\n      <td>3</td>\n      <td>4</td>\n      <td>39</td>\n      <td>35</td>\n    </tr>\n  </tbody>\n</table>\n</div>"
     },
     "metadata": {},
     "output_type": "display_data"
    }
   ],
   "source": [
    "file_path = 'src/simulator_events_log.txt'\n",
    "\n",
    "df = process_log_lines(file_path)\n",
    "\n",
    "\n",
    "# df_sorted = df.sort_values(by='Timestamp of finalisation', ascending=True)\n",
    "\n",
    "pd.set_option('display.max_rows', None)  # Show all rows\n",
    "pd.set_option('display.max_columns', None)  # Show all columns\n",
    "pd.set_option('display.width', 1000)  # Prevent line wrapping\n",
    "pd.set_option('display.colheader_justify', 'center')  # Center column headers\n",
    "pd.set_option('display.float_format', '{:.4f}'.format)  # Format float values\n",
    "\n",
    "\n",
    "display(df)"
   ],
   "metadata": {
    "collapsed": false,
    "ExecuteTime": {
     "end_time": "2025-03-26T20:09:15.335846Z",
     "start_time": "2025-03-26T20:09:15.308126Z"
    }
   },
   "id": "241e6b522d963ec3",
   "execution_count": 21
  },
  {
   "cell_type": "markdown",
   "source": [
    "## Analyze Transaction Matches across slots"
   ],
   "metadata": {
    "collapsed": false
   },
   "id": "6e669312cdca1d43"
  },
  {
   "cell_type": "code",
   "outputs": [
    {
     "name": "stdout",
     "output_type": "stream",
     "text": [
      "Transactions that appear in more than one slot:\n",
      "Transaction e470f8e2 appears in: [('Alice', 1), ('Bob', 1), ('Bob', 3), ('Dave', 1), ('Elsie', 1), ('Elsie', 3), ('Fred', 2), ('Fred', 3), ('Hank', 1), ('Hank', 2), ('Inez', 1), ('John', 1), ('John', 2), ('John', 3)]\n",
      "Transaction 48afd4ea appears in: [('Dave', 1), ('Elsie', 1), ('Elsie', 3), ('John', 1), ('John', 2), ('John', 3)]\n",
      "Transaction 10b700b0 appears in: [('Bob', 2), ('Bob', 3), ('Carol', 1), ('Carol', 3), ('Dave', 2), ('Dave', 3), ('Dave', 4), ('Elsie', 2), ('Elsie', 3), ('Fred', 1), ('Gwen', 1), ('Gwen', 2), ('Gwen', 3), ('Hank', 3)]\n",
      "Transaction b223a4e6 appears in: [('Bob', 2), ('Bob', 3), ('Carol', 1), ('Carol', 3), ('Dave', 2), ('Dave', 3), ('Dave', 4), ('Elsie', 2), ('Elsie', 3), ('Fred', 1), ('Gwen', 1), ('Gwen', 2), ('Gwen', 3), ('Hank', 3), ('Inez', 2), ('Inez', 3), ('John', 2)]\n",
      "Transaction 7c064074 appears in: [('Alice', 2), ('Alice', 3), ('Bob', 2), ('Bob', 3), ('Carol', 1), ('Carol', 3), ('Dave', 2), ('Dave', 3), ('Dave', 4), ('Fred', 1), ('Inez', 2), ('Inez', 3)]\n",
      "Transaction a36ca28e appears in: [('Alice', 2), ('Alice', 3), ('Bob', 2), ('Bob', 3), ('Carol', 1), ('Carol', 3), ('Fred', 1), ('Gwen', 1), ('Gwen', 2), ('Gwen', 3), ('Inez', 2), ('Inez', 3), ('John', 2)]\n",
      "Transaction 36f3824c appears in: [('Bob', 1), ('Bob', 3), ('Carol', 1), ('Carol', 3), ('Dave', 2), ('Dave', 3), ('Dave', 4), ('Elsie', 2), ('Elsie', 3), ('Hank', 3), ('Inez', 2), ('Inez', 3), ('John', 1), ('John', 2), ('John', 3)]\n",
      "Transaction d8e9ec31 appears in: [('Alice', 2), ('Alice', 3), ('Bob', 2), ('Bob', 3), ('Carol', 1), ('Carol', 3), ('Dave', 3), ('Dave', 4), ('Fred', 4), ('Hank', 3), ('Inez', 2), ('Inez', 3), ('John', 2)]\n",
      "Transaction b96df974 appears in: [('Alice', 2), ('Alice', 3), ('Carol', 1), ('Fred', 4), ('Inez', 2), ('Inez', 3)]\n",
      "Transaction da873faf appears in: [('Carol', 1), ('Elsie', 2), ('Elsie', 3), ('Inez', 3)]\n",
      "Transaction c318ccf2 appears in: [('Alice', 3), ('Bob', 2), ('Bob', 3), ('Carol', 1), ('Carol', 3), ('Dave', 2), ('Dave', 3), ('Dave', 4), ('Elsie', 2), ('Elsie', 3), ('Gwen', 1), ('Gwen', 2), ('Gwen', 3), ('Inez', 2), ('Inez', 3)]\n",
      "Transaction 299975dd appears in: [('Bob', 2), ('Bob', 3), ('Carol', 1), ('Dave', 2), ('Dave', 3), ('Dave', 4), ('Elsie', 2), ('Elsie', 3), ('Fred', 4), ('Inez', 2), ('Inez', 3)]\n",
      "Transaction 9ad98079 appears in: [('Alice', 3), ('Bob', 2), ('Bob', 3), ('Carol', 1), ('Elsie', 2), ('Elsie', 3), ('Fred', 4), ('Gwen', 1), ('Gwen', 2), ('Gwen', 3), ('Inez', 2), ('Inez', 3)]\n",
      "Transaction cfecb9fe appears in: [('Alice', 3), ('Carol', 1), ('Elsie', 2), ('Elsie', 3)]\n",
      "Transaction 176bf7ad appears in: [('Alice', 3), ('Carol', 1), ('Carol', 3), ('Elsie', 2), ('Elsie', 3), ('Fred', 4), ('Inez', 2), ('Inez', 3)]\n",
      "Transaction 8f22f12d appears in: [('Dave', 2), ('Dave', 3), ('Dave', 4)]\n",
      "Transaction f47ac8 appears in: [('Alice', 3), ('Carol', 2), ('Dave', 2), ('Dave', 3), ('Dave', 4)]\n",
      "Transaction b3b505eb appears in: [('Alice', 3), ('Bob', 2), ('Bob', 3), ('Carol', 2), ('Dave', 2), ('Dave', 3), ('Dave', 4), ('Elsie', 2), ('Elsie', 3), ('Gwen', 1), ('Gwen', 2), ('Gwen', 3)]\n",
      "Transaction 535ced63 appears in: [('Alice', 3), ('Bob', 2), ('Bob', 3), ('Carol', 2), ('Dave', 2), ('Dave', 3), ('Dave', 4), ('Elsie', 2), ('Elsie', 3), ('Fred', 4), ('Gwen', 1), ('Gwen', 2), ('Gwen', 3)]\n",
      "Transaction 2db50d24 appears in: [('Alice', 3), ('Bob', 2), ('Bob', 3), ('Dave', 2), ('Dave', 3), ('Dave', 4), ('Fred', 4), ('Inez', 2), ('Inez', 3)]\n",
      "Transaction d5f59fed appears in: [('Alice', 3), ('Dave', 2), ('Dave', 3), ('Dave', 4), ('Elsie', 3), ('Inez', 2), ('Inez', 3)]\n",
      "Transaction 383ecca9 appears in: [('Alice', 3), ('Carol', 2), ('Carol', 3), ('Dave', 4), ('Elsie', 2), ('Elsie', 3), ('Inez', 2), ('Inez', 3)]\n",
      "Transaction 375984c7 appears in: [('Alice', 3), ('Bob', 2), ('Bob', 3), ('Carol', 2), ('Carol', 3), ('Dave', 4), ('Elsie', 2), ('Elsie', 3)]\n",
      "Transaction ad052e51 appears in: [('Dave', 4), ('Elsie', 3)]\n",
      "Transaction 508796fb appears in: [('Carol', 2), ('Carol', 3), ('Dave', 4), ('Elsie', 2), ('Elsie', 3), ('Inez', 3)]\n",
      "Transaction f0e02fe6 appears in: [('Carol', 2), ('Carol', 3)]\n",
      "Transaction 75251da appears in: [('Carol', 2), ('Carol', 3)]\n",
      "Transaction ef40cc20 appears in: [('Carol', 2), ('Carol', 3), ('Elsie', 2), ('Elsie', 3)]\n",
      "Transaction 5ef1c784 appears in: [('Carol', 2), ('Carol', 3), ('Elsie', 3)]\n",
      "Transaction 7d257a74 appears in: [('Carol', 2), ('Carol', 3)]\n"
     ]
    }
   ],
   "source": [
    "def analyze_transaction_matches(df):\n",
    "    tx_occurrences = {}\n",
    "\n",
    "    for idx, row in df.iterrows():\n",
    "        node = row['node name']\n",
    "        slot = row['Slot']\n",
    "        # row['Finalised transactions'] is a set; iterate through each transaction hash\n",
    "        for tx in row['Finalised transactions']:\n",
    "            if tx not in tx_occurrences:\n",
    "                tx_occurrences[tx] = set()\n",
    "            tx_occurrences[tx].add((node, slot))\n",
    "    \n",
    "    duplicates = {tx: occ for tx, occ in tx_occurrences.items() if len(occ) > 1} \n",
    "\n",
    "    return duplicates\n",
    "\n",
    "\n",
    "duplicates = analyze_transaction_matches(df)\n",
    "print(\"Transactions that appear in more than one slot:\")\n",
    "for tx, occ in duplicates.items():\n",
    "    print(f\"Transaction {tx} appears in: {sorted(list(occ))}\")\n"
   ],
   "metadata": {
    "collapsed": false,
    "ExecuteTime": {
     "end_time": "2025-03-26T20:09:15.343626Z",
     "start_time": "2025-03-26T20:09:15.339390Z"
    }
   },
   "id": "5aa4ba4566cd37c5",
   "execution_count": 22
  },
  {
   "cell_type": "markdown",
   "source": [
    "ADD INTERLEDGER CHECKS"
   ],
   "metadata": {
    "collapsed": false
   },
   "id": "a8c23cf3429014b5"
  },
  {
   "cell_type": "code",
   "outputs": [
    {
     "name": "stdout",
     "output_type": "stream",
     "text": [
      "Average Inter-Ledger Agreement Time: 2.102258064516129\n"
     ]
    }
   ],
   "source": [
    "def calculate_inter_ledger_agreement_time(df):\n",
    "    df = df.sort_values(by='Timestamp of finalisation')\n",
    "    time_diffs = df['Timestamp of finalisation'].diff().dropna()\n",
    "    \n",
    "    return time_diffs.mean()\n",
    "\n",
    "avg_time = calculate_inter_ledger_agreement_time(df)\n",
    "print(f\"Average Inter-Ledger Agreement Time: {avg_time}\")"
   ],
   "metadata": {
    "collapsed": false,
    "ExecuteTime": {
     "end_time": "2025-03-26T20:09:15.347582Z",
     "start_time": "2025-03-26T20:09:15.343578Z"
    }
   },
   "id": "4f6a1ea63b72affc",
   "execution_count": 23
  },
  {
   "cell_type": "code",
   "outputs": [
    {
     "ename": "KeyError",
     "evalue": "\"['sequence number'] not in index\"",
     "output_type": "error",
     "traceback": [
      "\u001B[0;31m---------------------------------------------------------------------------\u001B[0m",
      "\u001B[0;31mKeyError\u001B[0m                                  Traceback (most recent call last)",
      "Cell \u001B[0;32mIn[24], line 1\u001B[0m\n\u001B[0;32m----> 1\u001B[0m final_experiment_df \u001B[38;5;241m=\u001B[39m \u001B[43mdf\u001B[49m\u001B[43m[\u001B[49m\u001B[43m[\u001B[49m\n\u001B[1;32m      2\u001B[0m \u001B[43m    \u001B[49m\u001B[38;5;124;43m\"\u001B[39;49m\u001B[38;5;124;43msequence number\u001B[39;49m\u001B[38;5;124;43m\"\u001B[39;49m\u001B[43m,\u001B[49m\n\u001B[1;32m      3\u001B[0m \u001B[43m    \u001B[49m\u001B[38;5;124;43m\"\u001B[39;49m\u001B[38;5;124;43mTimestamp of finalisation\u001B[39;49m\u001B[38;5;124;43m\"\u001B[39;49m\u001B[43m,\u001B[49m\n\u001B[1;32m      4\u001B[0m \u001B[43m    \u001B[49m\u001B[38;5;124;43m\"\u001B[39;49m\u001B[38;5;124;43mNo. of finalised transactions\u001B[39;49m\u001B[38;5;124;43m\"\u001B[39;49m\u001B[43m,\u001B[49m\n\u001B[1;32m      5\u001B[0m \u001B[43m    \u001B[49m\u001B[38;5;124;43m\"\u001B[39;49m\u001B[38;5;124;43mno. of transactions not finalised\u001B[39;49m\u001B[38;5;124;43m\"\u001B[39;49m\n\u001B[1;32m      6\u001B[0m \u001B[43m]\u001B[49m\u001B[43m]\u001B[49m\n\u001B[1;32m      8\u001B[0m display(final_experiment_df)\n",
      "File \u001B[0;32m~/PycharmProjects/thesis-stellar-simulator/.venv/lib/python3.11/site-packages/pandas/core/frame.py:4108\u001B[0m, in \u001B[0;36mDataFrame.__getitem__\u001B[0;34m(self, key)\u001B[0m\n\u001B[1;32m   4106\u001B[0m     \u001B[38;5;28;01mif\u001B[39;00m is_iterator(key):\n\u001B[1;32m   4107\u001B[0m         key \u001B[38;5;241m=\u001B[39m \u001B[38;5;28mlist\u001B[39m(key)\n\u001B[0;32m-> 4108\u001B[0m     indexer \u001B[38;5;241m=\u001B[39m \u001B[38;5;28;43mself\u001B[39;49m\u001B[38;5;241;43m.\u001B[39;49m\u001B[43mcolumns\u001B[49m\u001B[38;5;241;43m.\u001B[39;49m\u001B[43m_get_indexer_strict\u001B[49m\u001B[43m(\u001B[49m\u001B[43mkey\u001B[49m\u001B[43m,\u001B[49m\u001B[43m \u001B[49m\u001B[38;5;124;43m\"\u001B[39;49m\u001B[38;5;124;43mcolumns\u001B[39;49m\u001B[38;5;124;43m\"\u001B[39;49m\u001B[43m)\u001B[49m[\u001B[38;5;241m1\u001B[39m]\n\u001B[1;32m   4110\u001B[0m \u001B[38;5;66;03m# take() does not accept boolean indexers\u001B[39;00m\n\u001B[1;32m   4111\u001B[0m \u001B[38;5;28;01mif\u001B[39;00m \u001B[38;5;28mgetattr\u001B[39m(indexer, \u001B[38;5;124m\"\u001B[39m\u001B[38;5;124mdtype\u001B[39m\u001B[38;5;124m\"\u001B[39m, \u001B[38;5;28;01mNone\u001B[39;00m) \u001B[38;5;241m==\u001B[39m \u001B[38;5;28mbool\u001B[39m:\n",
      "File \u001B[0;32m~/PycharmProjects/thesis-stellar-simulator/.venv/lib/python3.11/site-packages/pandas/core/indexes/base.py:6200\u001B[0m, in \u001B[0;36mIndex._get_indexer_strict\u001B[0;34m(self, key, axis_name)\u001B[0m\n\u001B[1;32m   6197\u001B[0m \u001B[38;5;28;01melse\u001B[39;00m:\n\u001B[1;32m   6198\u001B[0m     keyarr, indexer, new_indexer \u001B[38;5;241m=\u001B[39m \u001B[38;5;28mself\u001B[39m\u001B[38;5;241m.\u001B[39m_reindex_non_unique(keyarr)\n\u001B[0;32m-> 6200\u001B[0m \u001B[38;5;28;43mself\u001B[39;49m\u001B[38;5;241;43m.\u001B[39;49m\u001B[43m_raise_if_missing\u001B[49m\u001B[43m(\u001B[49m\u001B[43mkeyarr\u001B[49m\u001B[43m,\u001B[49m\u001B[43m \u001B[49m\u001B[43mindexer\u001B[49m\u001B[43m,\u001B[49m\u001B[43m \u001B[49m\u001B[43maxis_name\u001B[49m\u001B[43m)\u001B[49m\n\u001B[1;32m   6202\u001B[0m keyarr \u001B[38;5;241m=\u001B[39m \u001B[38;5;28mself\u001B[39m\u001B[38;5;241m.\u001B[39mtake(indexer)\n\u001B[1;32m   6203\u001B[0m \u001B[38;5;28;01mif\u001B[39;00m \u001B[38;5;28misinstance\u001B[39m(key, Index):\n\u001B[1;32m   6204\u001B[0m     \u001B[38;5;66;03m# GH 42790 - Preserve name from an Index\u001B[39;00m\n",
      "File \u001B[0;32m~/PycharmProjects/thesis-stellar-simulator/.venv/lib/python3.11/site-packages/pandas/core/indexes/base.py:6252\u001B[0m, in \u001B[0;36mIndex._raise_if_missing\u001B[0;34m(self, key, indexer, axis_name)\u001B[0m\n\u001B[1;32m   6249\u001B[0m     \u001B[38;5;28;01mraise\u001B[39;00m \u001B[38;5;167;01mKeyError\u001B[39;00m(\u001B[38;5;124mf\u001B[39m\u001B[38;5;124m\"\u001B[39m\u001B[38;5;124mNone of [\u001B[39m\u001B[38;5;132;01m{\u001B[39;00mkey\u001B[38;5;132;01m}\u001B[39;00m\u001B[38;5;124m] are in the [\u001B[39m\u001B[38;5;132;01m{\u001B[39;00maxis_name\u001B[38;5;132;01m}\u001B[39;00m\u001B[38;5;124m]\u001B[39m\u001B[38;5;124m\"\u001B[39m)\n\u001B[1;32m   6251\u001B[0m not_found \u001B[38;5;241m=\u001B[39m \u001B[38;5;28mlist\u001B[39m(ensure_index(key)[missing_mask\u001B[38;5;241m.\u001B[39mnonzero()[\u001B[38;5;241m0\u001B[39m]]\u001B[38;5;241m.\u001B[39munique())\n\u001B[0;32m-> 6252\u001B[0m \u001B[38;5;28;01mraise\u001B[39;00m \u001B[38;5;167;01mKeyError\u001B[39;00m(\u001B[38;5;124mf\u001B[39m\u001B[38;5;124m\"\u001B[39m\u001B[38;5;132;01m{\u001B[39;00mnot_found\u001B[38;5;132;01m}\u001B[39;00m\u001B[38;5;124m not in index\u001B[39m\u001B[38;5;124m\"\u001B[39m)\n",
      "\u001B[0;31mKeyError\u001B[0m: \"['sequence number'] not in index\""
     ]
    }
   ],
   "source": [
    "final_experiment_df = df[[\n",
    "    \"sequence number\",\n",
    "    \"Timestamp of finalisation\",\n",
    "    \"No. of finalised transactions\",\n",
    "    \"no. of transactions not finalised\"\n",
    "]]\n",
    "\n",
    "display(final_experiment_df)"
   ],
   "metadata": {
    "collapsed": false,
    "ExecuteTime": {
     "end_time": "2025-03-26T20:09:15.392842Z",
     "start_time": "2025-03-26T20:09:15.352484Z"
    }
   },
   "id": "18a0b7d813327d2f",
   "execution_count": 24
  },
  {
   "cell_type": "code",
   "outputs": [],
   "source": [
    "avg_difference = (final_experiment_df[\"no. of transactions not finalised\"] - final_experiment_df[\"No. of finalised transactions\"]).mean()\n",
    "\n",
    "print(f\"Average difference: {avg_difference}\")"
   ],
   "metadata": {
    "collapsed": false,
    "ExecuteTime": {
     "start_time": "2025-03-26T20:09:15.371430Z"
    }
   },
   "id": "a183fd7400e7d199",
   "execution_count": null
  },
  {
   "cell_type": "code",
   "outputs": [],
   "source": [
    "avg_finalised = final_experiment_df[\"No. of finalised transactions\"].mean()\n",
    "avg_total = (final_experiment_df[\"No. of finalised transactions\"] + \n",
    "             final_experiment_df[\"no. of transactions not finalised\"]).mean()\n",
    "\n",
    "finalised_percentage = (avg_finalised / avg_total) * 100 if avg_total != 0 else 0\n",
    "\n",
    "print(f\"Percentage of finalised transactions vs total: {finalised_percentage:.2f}%\")"
   ],
   "metadata": {
    "collapsed": false,
    "ExecuteTime": {
     "start_time": "2025-03-26T20:09:15.372302Z"
    }
   },
   "id": "4632d0b4bbcc90a4",
   "execution_count": null
  }
 ],
 "metadata": {
  "kernelspec": {
   "display_name": "Python 3",
   "language": "python",
   "name": "python3"
  },
  "language_info": {
   "codemirror_mode": {
    "name": "ipython",
    "version": 2
   },
   "file_extension": ".py",
   "mimetype": "text/x-python",
   "name": "python",
   "nbconvert_exporter": "python",
   "pygments_lexer": "ipython2",
   "version": "2.7.6"
  }
 },
 "nbformat": 4,
 "nbformat_minor": 5
}
