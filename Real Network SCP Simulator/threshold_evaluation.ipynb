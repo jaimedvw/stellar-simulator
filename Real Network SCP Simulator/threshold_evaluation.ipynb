{
 "cells": [
  {
   "cell_type": "markdown",
   "source": [
    "## CALCULATE AVERAGE THRESHOLD IN STELLAR LATEST USED"
   ],
   "metadata": {
    "collapsed": false
   },
   "id": "69e2f8dfe88bdde4"
  },
  {
   "cell_type": "code",
   "outputs": [
    {
     "ename": "FileNotFoundError",
     "evalue": "[Errno 2] No such file or directory: 'src/ledger_logs.txt'",
     "output_type": "error",
     "traceback": [
      "\u001B[0;31m---------------------------------------------------------------------------\u001B[0m",
      "\u001B[0;31mFileNotFoundError\u001B[0m                         Traceback (most recent call last)",
      "Cell \u001B[0;32mIn[2], line 9\u001B[0m\n\u001B[1;32m      6\u001B[0m pattern \u001B[38;5;241m=\u001B[39m re\u001B[38;5;241m.\u001B[39mcompile(\u001B[38;5;124mr\u001B[39m\u001B[38;5;124m\"\u001B[39m\u001B[38;5;124mneeded=(\u001B[39m\u001B[38;5;124m\\\u001B[39m\u001B[38;5;124md+)\u001B[39m\u001B[38;5;124m\"\u001B[39m)\n\u001B[1;32m      7\u001B[0m needed \u001B[38;5;241m=\u001B[39m []\n\u001B[0;32m----> 9\u001B[0m \u001B[38;5;28;01mwith\u001B[39;00m \u001B[38;5;28;43mopen\u001B[39;49m\u001B[43m(\u001B[49m\u001B[43mlog_path\u001B[49m\u001B[43m)\u001B[49m \u001B[38;5;28;01mas\u001B[39;00m f:\n\u001B[1;32m     10\u001B[0m     \u001B[38;5;28;01mfor\u001B[39;00m line \u001B[38;5;129;01min\u001B[39;00m f:\n\u001B[1;32m     11\u001B[0m         m \u001B[38;5;241m=\u001B[39m pattern\u001B[38;5;241m.\u001B[39msearch(line)\n",
      "File \u001B[0;32m~/PycharmProjects/thesis-stellar-simulator/.venv/lib/python3.11/site-packages/IPython/core/interactiveshell.py:324\u001B[0m, in \u001B[0;36m_modified_open\u001B[0;34m(file, *args, **kwargs)\u001B[0m\n\u001B[1;32m    317\u001B[0m \u001B[38;5;28;01mif\u001B[39;00m file \u001B[38;5;129;01min\u001B[39;00m {\u001B[38;5;241m0\u001B[39m, \u001B[38;5;241m1\u001B[39m, \u001B[38;5;241m2\u001B[39m}:\n\u001B[1;32m    318\u001B[0m     \u001B[38;5;28;01mraise\u001B[39;00m \u001B[38;5;167;01mValueError\u001B[39;00m(\n\u001B[1;32m    319\u001B[0m         \u001B[38;5;124mf\u001B[39m\u001B[38;5;124m\"\u001B[39m\u001B[38;5;124mIPython won\u001B[39m\u001B[38;5;124m'\u001B[39m\u001B[38;5;124mt let you open fd=\u001B[39m\u001B[38;5;132;01m{\u001B[39;00mfile\u001B[38;5;132;01m}\u001B[39;00m\u001B[38;5;124m by default \u001B[39m\u001B[38;5;124m\"\u001B[39m\n\u001B[1;32m    320\u001B[0m         \u001B[38;5;124m\"\u001B[39m\u001B[38;5;124mas it is likely to crash IPython. If you know what you are doing, \u001B[39m\u001B[38;5;124m\"\u001B[39m\n\u001B[1;32m    321\u001B[0m         \u001B[38;5;124m\"\u001B[39m\u001B[38;5;124myou can use builtins\u001B[39m\u001B[38;5;124m'\u001B[39m\u001B[38;5;124m open.\u001B[39m\u001B[38;5;124m\"\u001B[39m\n\u001B[1;32m    322\u001B[0m     )\n\u001B[0;32m--> 324\u001B[0m \u001B[38;5;28;01mreturn\u001B[39;00m \u001B[43mio_open\u001B[49m\u001B[43m(\u001B[49m\u001B[43mfile\u001B[49m\u001B[43m,\u001B[49m\u001B[43m \u001B[49m\u001B[38;5;241;43m*\u001B[39;49m\u001B[43margs\u001B[49m\u001B[43m,\u001B[49m\u001B[43m \u001B[49m\u001B[38;5;241;43m*\u001B[39;49m\u001B[38;5;241;43m*\u001B[39;49m\u001B[43mkwargs\u001B[49m\u001B[43m)\u001B[49m\n",
      "\u001B[0;31mFileNotFoundError\u001B[0m: [Errno 2] No such file or directory: 'src/ledger_logs.txt'"
     ]
    }
   ],
   "source": [
    "import re\n",
    "import pandas as pd\n",
    "import sys\n",
    "\n",
    "log_path = 'src/ledger_logs.txt'\n",
    "pattern = re.compile(r\"needed=(\\d+)\")\n",
    "needed = []\n",
    "\n",
    "with open(log_path) as f:\n",
    "    for line in f:\n",
    "        m = pattern.search(line)\n",
    "        if m:\n",
    "            needed.append(int(m.group(1)))\n",
    "\n",
    "df_needed = pd.DataFrame({'needed': needed})\n",
    "avg_needed = df_needed['needed'].mean()\n",
    "\n",
    "display(df_needed)"
   ],
   "metadata": {
    "collapsed": false,
    "ExecuteTime": {
     "end_time": "2025-06-15T11:23:50.828922Z",
     "start_time": "2025-06-15T11:23:50.720124Z"
    }
   },
   "id": "e5eac3b3ae735800",
   "execution_count": 2
  },
  {
   "cell_type": "code",
   "outputs": [],
   "source": [
    "print(f\"Average 'needed' (minimum_quorum) across all checks: {avg_needed:.2f}\")"
   ],
   "metadata": {
    "collapsed": false,
    "ExecuteTime": {
     "start_time": "2025-06-15T11:23:50.827789Z"
    }
   },
   "id": "5b49c1c92d44fae9",
   "execution_count": null
  },
  {
   "cell_type": "code",
   "outputs": [
    {
     "data": {
      "text/plain": "                                                  node  peer_count  threshold  \\\n0    GAAV2GCVFLNN522ORUYFV33E76VPC22E72S75AQ6MBR5V4...          21          5   \n1    GD6SZQV3WEJUH352NTVLKEV2JM2RH266VPEM7EH5QLLI7Z...          23          5   \n2    GCGB2S2KGYARPVIA37HYZXVRM2YZUEXA6S33ZU5BUDC6TH...          21          5   \n3    GABMKJM6I25XI4K7U6XWMULOUQIQ27BCTMLS6BYYSOWKTB...          21          5   \n4    GCM6QMP3DLRPTAZW2UZPCPX2LF3SXWXKPMP3GKFZBDSF3Q...          21          5   \n..                                                 ...         ...        ...   \n100  GDRCZ4IPJR7V3HK4GR45CRTE72SDAOZUF2TDBQ5E5IGWC4...          32          7   \n101  GATGABTRCJT76L63PXOBJ5MPJBRFEFUIPYO3FCQ3GGFL3U...          21          5   \n102  GDH7HKT3XWIBJKC4PNQ6GHMWYTCY75WM4ENY2SSTMNTYLJ...          26          6   \n103  GA5A7OIAFB4TCVJNPJRAQKBDAAIAC6EKCTNXVGF3F2KKFK...          22          5   \n104  GDY2AIIEWSIJA5IY6ZZVHHVKNVLF5S4XXZRGCKPBAWFAHS...          22          5   \n\n     threshold_percent  \n0             0.238095  \n1             0.217391  \n2             0.238095  \n3             0.238095  \n4             0.238095  \n..                 ...  \n100           0.218750  \n101           0.238095  \n102           0.230769  \n103           0.227273  \n104           0.227273  \n\n[105 rows x 4 columns]",
      "text/html": "<div>\n<style scoped>\n    .dataframe tbody tr th:only-of-type {\n        vertical-align: middle;\n    }\n\n    .dataframe tbody tr th {\n        vertical-align: top;\n    }\n\n    .dataframe thead th {\n        text-align: right;\n    }\n</style>\n<table border=\"1\" class=\"dataframe\">\n  <thead>\n    <tr style=\"text-align: right;\">\n      <th></th>\n      <th>node</th>\n      <th>peer_count</th>\n      <th>threshold</th>\n      <th>threshold_percent</th>\n    </tr>\n  </thead>\n  <tbody>\n    <tr>\n      <th>0</th>\n      <td>GAAV2GCVFLNN522ORUYFV33E76VPC22E72S75AQ6MBR5V4...</td>\n      <td>21</td>\n      <td>5</td>\n      <td>0.238095</td>\n    </tr>\n    <tr>\n      <th>1</th>\n      <td>GD6SZQV3WEJUH352NTVLKEV2JM2RH266VPEM7EH5QLLI7Z...</td>\n      <td>23</td>\n      <td>5</td>\n      <td>0.217391</td>\n    </tr>\n    <tr>\n      <th>2</th>\n      <td>GCGB2S2KGYARPVIA37HYZXVRM2YZUEXA6S33ZU5BUDC6TH...</td>\n      <td>21</td>\n      <td>5</td>\n      <td>0.238095</td>\n    </tr>\n    <tr>\n      <th>3</th>\n      <td>GABMKJM6I25XI4K7U6XWMULOUQIQ27BCTMLS6BYYSOWKTB...</td>\n      <td>21</td>\n      <td>5</td>\n      <td>0.238095</td>\n    </tr>\n    <tr>\n      <th>4</th>\n      <td>GCM6QMP3DLRPTAZW2UZPCPX2LF3SXWXKPMP3GKFZBDSF3Q...</td>\n      <td>21</td>\n      <td>5</td>\n      <td>0.238095</td>\n    </tr>\n    <tr>\n      <th>...</th>\n      <td>...</td>\n      <td>...</td>\n      <td>...</td>\n      <td>...</td>\n    </tr>\n    <tr>\n      <th>100</th>\n      <td>GDRCZ4IPJR7V3HK4GR45CRTE72SDAOZUF2TDBQ5E5IGWC4...</td>\n      <td>32</td>\n      <td>7</td>\n      <td>0.218750</td>\n    </tr>\n    <tr>\n      <th>101</th>\n      <td>GATGABTRCJT76L63PXOBJ5MPJBRFEFUIPYO3FCQ3GGFL3U...</td>\n      <td>21</td>\n      <td>5</td>\n      <td>0.238095</td>\n    </tr>\n    <tr>\n      <th>102</th>\n      <td>GDH7HKT3XWIBJKC4PNQ6GHMWYTCY75WM4ENY2SSTMNTYLJ...</td>\n      <td>26</td>\n      <td>6</td>\n      <td>0.230769</td>\n    </tr>\n    <tr>\n      <th>103</th>\n      <td>GA5A7OIAFB4TCVJNPJRAQKBDAAIAC6EKCTNXVGF3F2KKFK...</td>\n      <td>22</td>\n      <td>5</td>\n      <td>0.227273</td>\n    </tr>\n    <tr>\n      <th>104</th>\n      <td>GDY2AIIEWSIJA5IY6ZZVHHVKNVLF5S4XXZRGCKPBAWFAHS...</td>\n      <td>22</td>\n      <td>5</td>\n      <td>0.227273</td>\n    </tr>\n  </tbody>\n</table>\n<p>105 rows × 4 columns</p>\n</div>"
     },
     "metadata": {},
     "output_type": "display_data"
    }
   ],
   "source": [
    "import json\n",
    "import pandas as pd\n",
    "\n",
    "json_path = 'src/quorumset_05_06_2025.json'\n",
    "with open(json_path) as f:\n",
    "    raw = json.load(f)\n",
    "\n",
    "def flatten_list(inner):\n",
    "    result = []\n",
    "    for v in inner.get('validators', []):\n",
    "        result.append(v)\n",
    "    for sub in inner.get('innerQuorumSets', []):\n",
    "        result.extend(flatten_list(sub))\n",
    "    return result\n",
    "\n",
    "rows = []\n",
    "for entry in raw['nodes']:\n",
    "    pk = entry['publicKey']\n",
    "    qs = entry['quorumSet']\n",
    "    thr = qs['threshold']\n",
    "    all_ids = set(qs.get('validators', []))\n",
    "    for sub in qs.get('innerQuorumSets', []):\n",
    "        all_ids.update(flatten_list(sub))\n",
    "    peer_count = len(all_ids)\n",
    "    threshold_percent = thr / peer_count if peer_count > 0 else None\n",
    "    rows.append({\n",
    "        'node': pk,\n",
    "        'peer_count': peer_count,\n",
    "        'threshold': thr,\n",
    "        'threshold_percent': threshold_percent\n",
    "    })\n",
    "\n",
    "df_peers = pd.DataFrame(rows)\n",
    "avg_peers = df_peers['peer_count'].mean()\n",
    "avg_percent = df_peers['threshold_percent'].dropna().mean()\n",
    "\n",
    "display(df_peers)\n"
   ],
   "metadata": {
    "collapsed": false,
    "ExecuteTime": {
     "end_time": "2025-06-15T11:24:24.643103Z",
     "start_time": "2025-06-15T11:24:24.602805Z"
    }
   },
   "id": "191f71483d83c0bd",
   "execution_count": 6
  },
  {
   "cell_type": "code",
   "outputs": [
    {
     "name": "stdout",
     "output_type": "stream",
     "text": [
      "Average number of unique peers per node: 41.77\n",
      "Average threshold as a fraction of peers: 18.76%\n"
     ]
    }
   ],
   "source": [
    "print(f\"Average number of unique peers per node: {avg_peers:.2f}\")\n",
    "print(f\"Average threshold as a fraction of peers: {avg_percent:.2%}\")"
   ],
   "metadata": {
    "collapsed": false,
    "ExecuteTime": {
     "end_time": "2025-06-15T11:24:43.315568Z",
     "start_time": "2025-06-15T11:24:43.310080Z"
    }
   },
   "id": "3be92958a3487151",
   "execution_count": 7
  },
  {
   "cell_type": "code",
   "outputs": [],
   "source": [
    "import json\n",
    "import pandas as pd\n",
    "\n",
    "json_path = 'src/07_2024_Real_SCP_network_topology.json'\n",
    "with open(json_path) as f:\n",
    "    raw = json.load(f)\n",
    "\n",
    "def flatten_list(inner):\n",
    "    # collect *validators* itself, but for slice-count we don't flatten deeper\n",
    "    return inner.get('validators', [])\n",
    "\n",
    "rows = []\n",
    "for entry in raw['nodes']:\n",
    "    pk = entry['publicKey']\n",
    "    qs = entry['quorumSet']\n",
    "    thr = qs['threshold']\n",
    "    top_validators    = len(qs.get('validators', []))\n",
    "    top_slices        = 1                           # the top-level slice itself counts as 1\n",
    "    inner_slices      = len(qs.get('innerQuorumSets', []))\n",
    "    total_slices      = top_slices + inner_slices\n",
    "    # what % of slices does JSON-threshold represent?\n",
    "    threshold_pct     = thr / total_slices if total_slices>0 else None\n",
    "\n",
    "    rows.append({\n",
    "        'node'             : pk,\n",
    "        'total_slices'     : total_slices,\n",
    "        'json_threshold'   : thr,\n",
    "        'threshold_percent': threshold_pct\n",
    "    })\n",
    "\n",
    "df = pd.DataFrame(rows)\n",
    "\n",
    "print(f\"avg. slices/node = {df['total_slices'].mean():.1f}\")\n",
    "print(f\"avg. JSON threshold = {df['json_threshold'].mean():.1f}\")\n",
    "print(f\"avg. % of slices = {100*df['threshold_percent'].mean():.1f}%\")\n"
   ],
   "metadata": {
    "collapsed": false,
    "ExecuteTime": {
     "start_time": "2025-06-15T11:23:50.832128Z"
    }
   },
   "id": "3f43fc59ebb19999",
   "execution_count": null
  },
  {
   "cell_type": "code",
   "outputs": [],
   "source": [],
   "metadata": {
    "collapsed": false,
    "ExecuteTime": {
     "end_time": "2025-06-15T11:23:50.834361Z",
     "start_time": "2025-06-15T11:23:50.833169Z"
    }
   },
   "id": "c38eb5af5cd961bc"
  },
  {
   "cell_type": "code",
   "outputs": [],
   "source": [],
   "metadata": {
    "collapsed": false,
    "ExecuteTime": {
     "start_time": "2025-06-15T11:23:50.834260Z"
    }
   },
   "id": "b2b35e59579eee28"
  },
  {
   "cell_type": "markdown",
   "source": [
    "# CODE FOR OLD SNAPSHOT"
   ],
   "metadata": {
    "collapsed": false
   },
   "id": "53637d2e1325c133"
  },
  {
   "cell_type": "code",
   "outputs": [
    {
     "ename": "KeyError",
     "evalue": "'threshold'",
     "output_type": "error",
     "traceback": [
      "\u001B[0;31m---------------------------------------------------------------------------\u001B[0m",
      "\u001B[0;31mKeyError\u001B[0m                                  Traceback (most recent call last)",
      "Cell \u001B[0;32mIn[5], line 28\u001B[0m\n\u001B[1;32m     25\u001B[0m     all_peers \u001B[38;5;241m|\u001B[39m\u001B[38;5;241m=\u001B[39m flatten_validators(sub)\n\u001B[1;32m     26\u001B[0m peer_count \u001B[38;5;241m=\u001B[39m \u001B[38;5;28mlen\u001B[39m(all_peers)\n\u001B[0;32m---> 28\u001B[0m thr \u001B[38;5;241m=\u001B[39m \u001B[43mentry\u001B[49m\u001B[43m[\u001B[49m\u001B[38;5;124;43m'\u001B[39;49m\u001B[38;5;124;43mthreshold\u001B[39;49m\u001B[38;5;124;43m'\u001B[39;49m\u001B[43m]\u001B[49m\n\u001B[1;32m     29\u001B[0m threshold_percent \u001B[38;5;241m=\u001B[39m thr \u001B[38;5;241m/\u001B[39m peer_count \u001B[38;5;28;01mif\u001B[39;00m peer_count \u001B[38;5;241m>\u001B[39m \u001B[38;5;241m0\u001B[39m \u001B[38;5;28;01melse\u001B[39;00m \u001B[38;5;28;01mNone\u001B[39;00m\n\u001B[1;32m     31\u001B[0m rows\u001B[38;5;241m.\u001B[39mappend({\n\u001B[1;32m     32\u001B[0m     \u001B[38;5;124m'\u001B[39m\u001B[38;5;124mnode\u001B[39m\u001B[38;5;124m'\u001B[39m: pk,\n\u001B[1;32m     33\u001B[0m     \u001B[38;5;124m'\u001B[39m\u001B[38;5;124mpeer_count\u001B[39m\u001B[38;5;124m'\u001B[39m: peer_count,\n\u001B[1;32m     34\u001B[0m     \u001B[38;5;124m'\u001B[39m\u001B[38;5;124mthreshold\u001B[39m\u001B[38;5;124m'\u001B[39m: thr,\n\u001B[1;32m     35\u001B[0m     \u001B[38;5;124m'\u001B[39m\u001B[38;5;124mthreshold_percent\u001B[39m\u001B[38;5;124m'\u001B[39m: threshold_percent\n\u001B[1;32m     36\u001B[0m })\n",
      "\u001B[0;31mKeyError\u001B[0m: 'threshold'"
     ]
    }
   ],
   "source": [
    "import json\n",
    "import pandas as pd\n",
    "\n",
    "json_path = 'src/quorumset_05_06_2025.json'\n",
    "with open(json_path) as f:\n",
    "    raw = json.load(f)\n",
    "\n",
    "def flatten_validators(qs):\n",
    "    # Recursively collect all validators in this quorum set and its inner sets\n",
    "    validators = set(qs.get('validators', []))\n",
    "    for sub in qs.get('innerQuorumSets', []):\n",
    "        validators |= flatten_validators(sub)\n",
    "    return validators\n",
    "\n",
    "rows = []\n",
    "all_node_pks = set()\n",
    "\n",
    "for entry in raw['nodes']:\n",
    "    pk = entry['publicKey']\n",
    "    all_node_pks.add(pk)\n",
    "\n",
    "    # This node's direct validators + all nested ones\n",
    "    all_peers = set(entry.get('validators', []))\n",
    "    for sub in entry.get('innerQuorumSets', []):\n",
    "        all_peers |= flatten_validators(sub)\n",
    "    peer_count = len(all_peers)\n",
    "\n",
    "    thr = entry['threshold']\n",
    "    threshold_percent = thr / peer_count if peer_count > 0 else None\n",
    "\n",
    "    rows.append({\n",
    "        'node': pk,\n",
    "        'peer_count': peer_count,\n",
    "        'threshold': thr,\n",
    "        'threshold_percent': threshold_percent\n",
    "    })\n",
    "\n",
    "df_peers = pd.DataFrame(rows)\n",
    "\n",
    "avg_peers = df_peers['peer_count'].mean()\n",
    "avg_percent = df_peers['threshold_percent'].dropna().mean()\n",
    "\n",
    "print(f\"Total unique nodes in network: {len(all_node_pks)}\")\n",
    "print(f\"Avg. peers per node: {avg_peers:.2f}\")\n",
    "print(f\"Avg. threshold percent: {avg_percent:.2f}\")\n",
    "\n",
    "#display(df_peers)\n"
   ],
   "metadata": {
    "collapsed": false,
    "ExecuteTime": {
     "end_time": "2025-06-15T11:24:16.010344Z",
     "start_time": "2025-06-15T11:24:15.966599Z"
    }
   },
   "id": "7daf0d7be6ef86a6",
   "execution_count": 5
  },
  {
   "cell_type": "code",
   "outputs": [],
   "source": [],
   "metadata": {
    "collapsed": false,
    "ExecuteTime": {
     "start_time": "2025-06-15T11:23:50.837137Z"
    }
   },
   "id": "4a15f63333bcf3a"
  }
 ],
 "metadata": {
  "kernelspec": {
   "display_name": "Python 3",
   "language": "python",
   "name": "python3"
  },
  "language_info": {
   "codemirror_mode": {
    "name": "ipython",
    "version": 2
   },
   "file_extension": ".py",
   "mimetype": "text/x-python",
   "name": "python",
   "nbconvert_exporter": "python",
   "pygments_lexer": "ipython2",
   "version": "2.7.6"
  }
 },
 "nbformat": 4,
 "nbformat_minor": 5
}
